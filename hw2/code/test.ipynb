{
 "cells": [
  {
   "cell_type": "markdown",
   "metadata": {},
   "source": [
    "## So far:\n",
    "pad sentence and record ending index\n",
    "\n",
    "But cannot index properly...\n",
    "\n",
    "So how can I do batching??? Well, pad it with . zero. Just let it learn? How the effect of 0 will not be too big"
   ]
  },
  {
   "cell_type": "code",
   "execution_count": 31,
   "metadata": {},
   "outputs": [
    {
     "name": "stdout",
     "output_type": "stream",
     "text": [
      "runtime: 1.5964102745056152\n"
     ]
    }
   ],
   "source": [
    "from data_pre import data_preprocessing\n",
    "from data_pre import data_preprocessing\n",
    "from WAC_ATT_T import WAC_ATT_T\n",
    "import torch\n",
    "import torch.nn as nn\n",
    "import torch.nn.functional as F\n",
    "from torch import log\n",
    "import torch.optim as optim\n",
    "import time\n",
    "from torch.utils.data import DataLoader, TensorDataset\n",
    "\n",
    "(voc_ix, train_data,test_data, dev_data) = data_preprocessing()\n",
    "\n",
    "\n",
    "\n",
    "'''\n",
    "load and prepare data\n",
    "'''\n",
    "#(voc_ix, trainX, trainy, testX, testy, devX, devy) = data_preprocessing()\n",
    "#print(\"finish preparing data\\n\")\n",
    "\n",
    "'''\n",
    "set parameters\n",
    "'''\n",
    "## set hyperparameters\n",
    "VOCAB_SIZE = len(voc_ix) + 1\n",
    "EMBEDDING_DIM = 100\n",
    "HIDDEN_DIM = 100\n",
    "n_epoch = 20\n",
    "batch_size = 500\n",
    "eval_per = 20000/batch_size\n",
    "PATH = \"../model/wac_test.pt\"\n",
    "\n",
    "## define model\n",
    "model = WAC_ATT_T(EMBEDDING_DIM,HIDDEN_DIM, VOCAB_SIZE)\n",
    "optimizer = optim.Adagrad(model.parameters(), lr = 1e-2)\n",
    "\n",
    "\n",
    "## training\n",
    "losses = []\n",
    "accs = []\n",
    "i = 0\n",
    "best_dev_acc = 0\n",
    "\n",
    "myloss = torch.nn.BCELoss(weight=None, size_average=None, reduce=None, reduction='mean')\n",
    "# with torch.autograd.set_detect_anomaly(True):\n",
    "#     start = time.time()\n",
    "#     for epoch in range(n_epoch):\n",
    "#         print(\"epoch \" + str(epoch))\n",
    "\n",
    "#         #dataloaders\n",
    "#         # make sure to SHUFFLE your data\n",
    "#         train_loader = DataLoader(train_data, shuffle=True, batch_size=batch_size)\n",
    "#         for X,y,lens in train_loader:\n",
    "\n",
    "#             if i % eval_per == 0:\n",
    "#                 print(\"time: {}\".format(time.time() - start))\n",
    "#                 acc = model.evaluate(dev_data.tensors)\n",
    "#                 if acc > best_dev_acc:\n",
    "#                     best_dev_acc = acc\n",
    "#                     torch.save(model, PATH)\n",
    "#                 print(\"accuracy on dev: \" + str(acc))\n",
    "#                 accs.append(acc)\n",
    "\n",
    "#             # Step 3. Run our forward pass.\n",
    "#             prob = model.forward(X, lens)\n",
    "\n",
    "#             # Step 4. Compute the loss, gradients, and update the parameters by\n",
    "#             #  calling optimizer.step()\n",
    "#             #loss_sent = - y*log(prob) - (1-y)*log(1-prob)\n",
    "#             loss = myloss(prob, y.float())\n",
    "#             #loss += loss_sent\n",
    "\n",
    "#             #import pdb; pdb.set_trace()\n",
    "#             loss.backward()\n",
    "#             optimizer.step()\n",
    "#             model.zero_grad()\n",
    "#             i +=1\n",
    "\n",
    "#         losses.append(loss.item())\n",
    "#         runtime = time.time() - start\n",
    "#     print(\"runtime: \" + str(runtime) + \"s\")\n",
    "\n",
    "# model_best = torch.load(PATH)\n",
    "# model_best.eval()\n",
    "# acc_dev = model_best.evaluate(dev_data.tensors)\n",
    "# print(\"best model acc on dev: \" + str(acc_dev))\n",
    "# acc_test = model_best.evaluate(test_data.tensors)\n",
    "# print(\"best model acc on test: \" + str(acc_test))"
   ]
  },
  {
   "cell_type": "code",
   "execution_count": 48,
   "metadata": {},
   "outputs": [
    {
     "name": "stdout",
     "output_type": "stream",
     "text": [
      "torch.Size([56, 500, 100])\n"
     ]
    },
    {
     "data": {
      "text/plain": [
       "torch.Size([500, 1, 100])"
      ]
     },
     "execution_count": 48,
     "metadata": {},
     "output_type": "execute_result"
    }
   ],
   "source": [
    "maxlen = X.size(1)\n",
    "mask2 = torch.arange(maxlen)[None,:].float() == lens[:,None].float() -1\n",
    "tv, _ = model.lstm(embeds.transpose(0,1))\n",
    "print(tv.shape)\n",
    "tv = tv[mask2.transpose(0,1)].unsqueeze(1)\n",
    "print(tv.shape)"
   ]
  },
  {
   "cell_type": "code",
   "execution_count": 49,
   "metadata": {},
   "outputs": [
    {
     "data": {
      "text/plain": [
       "torch.Size([500, 1, 100])"
      ]
     },
     "execution_count": 49,
     "metadata": {},
     "output_type": "execute_result"
    }
   ],
   "source": [
    "(tv / tv.sum(2, keepdim = True)).shape"
   ]
  },
  {
   "cell_type": "code",
   "execution_count": 52,
   "metadata": {},
   "outputs": [],
   "source": [
    "u = torch.unsqueeze(model.u,0)\n",
    "u = torch.unsqueeze(u,0) ## now [1,1, embed]\n",
    "#u = u/u.sum(2, keepdim=True)"
   ]
  },
  {
   "cell_type": "code",
   "execution_count": 53,
   "metadata": {},
   "outputs": [
    {
     "data": {
      "text/plain": [
       "torch.Size([1, 1, 100])"
      ]
     },
     "execution_count": 53,
     "metadata": {},
     "output_type": "execute_result"
    }
   ],
   "source": [
    "u.shape"
   ]
  },
  {
   "cell_type": "code",
   "execution_count": 55,
   "metadata": {},
   "outputs": [
    {
     "data": {
      "text/plain": [
       "tensor([[[ 0.0682,  0.0892,  0.1601,  ..., -0.0349, -0.0137, -0.0502]],\n",
       "\n",
       "        [[ 0.0767,  0.0958,  0.1669,  ..., -0.0422, -0.0183, -0.0401]],\n",
       "\n",
       "        [[ 0.0550,  0.0888,  0.1665,  ..., -0.0437, -0.0162, -0.0584]],\n",
       "\n",
       "        ...,\n",
       "\n",
       "        [[ 0.0595,  0.1026,  0.2129,  ..., -0.0328, -0.0363, -0.0787]],\n",
       "\n",
       "        [[ 0.0663,  0.0953,  0.2229,  ..., -0.0427, -0.0272, -0.0691]],\n",
       "\n",
       "        [[ 0.0663,  0.0953,  0.2229,  ..., -0.0427, -0.0272, -0.0691]]],\n",
       "       grad_fn=<AddBackward0>)"
      ]
     },
     "execution_count": 55,
     "metadata": {},
     "output_type": "execute_result"
    }
   ],
   "source": [
    "0.1*u + tv"
   ]
  },
  {
   "cell_type": "code",
   "execution_count": 42,
   "metadata": {},
   "outputs": [],
   "source": [
    "tv = "
   ]
  },
  {
   "cell_type": "code",
   "execution_count": 43,
   "metadata": {},
   "outputs": [
    {
     "data": {
      "text/plain": [
       "torch.Size([500, 1, 100])"
      ]
     },
     "execution_count": 43,
     "metadata": {},
     "output_type": "execute_result"
    }
   ],
   "source": [
    "tv.shape"
   ]
  },
  {
   "cell_type": "code",
   "execution_count": 27,
   "metadata": {},
   "outputs": [
    {
     "data": {
      "text/plain": [
       "torch.Size([500, 56, 100])"
      ]
     },
     "execution_count": 27,
     "metadata": {},
     "output_type": "execute_result"
    }
   ],
   "source": [
    "embeds = model.word_embeddings(X)\n",
    "embeds.shape"
   ]
  },
  {
   "cell_type": "code",
   "execution_count": 29,
   "metadata": {},
   "outputs": [
    {
     "data": {
      "text/plain": [
       "torch.Size([500, 100])"
      ]
     },
     "execution_count": 29,
     "metadata": {},
     "output_type": "execute_result"
    }
   ],
   "source": [
    "embeds[mask].shape"
   ]
  },
  {
   "cell_type": "code",
   "execution_count": 24,
   "metadata": {},
   "outputs": [
    {
     "data": {
      "text/plain": [
       "torch.Size([500])"
      ]
     },
     "execution_count": 24,
     "metadata": {},
     "output_type": "execute_result"
    }
   ],
   "source": [
    "X[mask].shape"
   ]
  },
  {
   "cell_type": "code",
   "execution_count": 5,
   "metadata": {},
   "outputs": [
    {
     "data": {
      "text/plain": [
       "torch.Size([100])"
      ]
     },
     "execution_count": 5,
     "metadata": {},
     "output_type": "execute_result"
    }
   ],
   "source": [
    "model.u.shape"
   ]
  },
  {
   "cell_type": "code",
   "execution_count": null,
   "metadata": {},
   "outputs": [],
   "source": [
    "X.shape"
   ]
  },
  {
   "cell_type": "code",
   "execution_count": null,
   "metadata": {},
   "outputs": [],
   "source": [
    "model.forward(X,lens)"
   ]
  },
  {
   "cell_type": "code",
   "execution_count": null,
   "metadata": {},
   "outputs": [],
   "source": []
  },
  {
   "cell_type": "code",
   "execution_count": null,
   "metadata": {},
   "outputs": [],
   "source": []
  },
  {
   "cell_type": "code",
   "execution_count": null,
   "metadata": {},
   "outputs": [],
   "source": [
    "# obtain one batch of training data\n",
    "batch_size = 500\n",
    "train_loader = DataLoader(train_data, shuffle=F, batch_size=batch_size)\n",
    "\n",
    "dataiter = iter(train_loader)\n",
    "X, y,lens = dataiter.next()\n",
    "\n",
    "embeds = model.word_embeddings(X)\n",
    "embeds.shape"
   ]
  },
  {
   "cell_type": "code",
   "execution_count": null,
   "metadata": {},
   "outputs": [],
   "source": [
    "X.shape"
   ]
  },
  {
   "cell_type": "code",
   "execution_count": null,
   "metadata": {},
   "outputs": [],
   "source": [
    "maxlen = X.size(1)\n",
    "mask = torch.arange(maxlen)[None,:] < lens[:,None]\n",
    "embeds[~mask] = float(0)"
   ]
  },
  {
   "cell_type": "code",
   "execution_count": null,
   "metadata": {},
   "outputs": [],
   "source": [
    "X[0,:]"
   ]
  },
  {
   "cell_type": "code",
   "execution_count": null,
   "metadata": {},
   "outputs": [],
   "source": [
    "(embeds.sum(dim = 1).t()/lens.float()).t()[0,:]/model.word_embeddings(X[0,:6]).mean(dim = 0)"
   ]
  },
  {
   "cell_type": "code",
   "execution_count": null,
   "metadata": {},
   "outputs": [],
   "source": [
    "model.word_embeddings(X[0,:9]).shape"
   ]
  },
  {
   "cell_type": "code",
   "execution_count": null,
   "metadata": {},
   "outputs": [],
   "source": [
    "lens"
   ]
  },
  {
   "cell_type": "code",
   "execution_count": null,
   "metadata": {},
   "outputs": [],
   "source": [
    "maxlen/lens"
   ]
  },
  {
   "cell_type": "code",
   "execution_count": null,
   "metadata": {},
   "outputs": [],
   "source": [
    "embeds.shape"
   ]
  },
  {
   "cell_type": "code",
   "execution_count": null,
   "metadata": {},
   "outputs": [],
   "source": [
    "embeds[2,6,:]"
   ]
  },
  {
   "cell_type": "code",
   "execution_count": null,
   "metadata": {},
   "outputs": [],
   "source": [
    "(embeds.mean(dim = 1).t()*(maxlen/lens.float())).t()[0,:].shape"
   ]
  },
  {
   "cell_type": "code",
   "execution_count": null,
   "metadata": {},
   "outputs": [],
   "source": [
    "torch.matmul(maxlen/lens.float(),embeds.mean(dim = 1)).shape"
   ]
  },
  {
   "cell_type": "code",
   "execution_count": null,
   "metadata": {},
   "outputs": [],
   "source": [
    "model.predict(X)"
   ]
  },
  {
   "cell_type": "code",
   "execution_count": null,
   "metadata": {},
   "outputs": [],
   "source": [
    "model.evaluate(dev_data.tensors)"
   ]
  },
  {
   "cell_type": "code",
   "execution_count": null,
   "metadata": {},
   "outputs": [],
   "source": [
    "dev_data.tensors[1].shape"
   ]
  },
  {
   "cell_type": "code",
   "execution_count": null,
   "metadata": {},
   "outputs": [],
   "source": [
    "x = dev_data.tensors[0][0,:]\n",
    "y = dev_data.tensors[1][0]\n",
    "\n",
    "model.forward(x.unsqueeze(0),lens = torch.Tensor(1))"
   ]
  },
  {
   "cell_type": "code",
   "execution_count": null,
   "metadata": {},
   "outputs": [],
   "source": [
    "model.forward(x.unsqueeze(0),lens = torch.tensor([1], dtype = torch.long))"
   ]
  },
  {
   "cell_type": "code",
   "execution_count": null,
   "metadata": {},
   "outputs": [],
   "source": [
    "dtype=torch.long, device=device)"
   ]
  }
 ],
 "metadata": {
  "kernelspec": {
   "display_name": "Python 3",
   "language": "python",
   "name": "python3"
  },
  "language_info": {
   "codemirror_mode": {
    "name": "ipython",
    "version": 3
   },
   "file_extension": ".py",
   "mimetype": "text/x-python",
   "name": "python",
   "nbconvert_exporter": "python",
   "pygments_lexer": "ipython3",
   "version": "3.6.8"
  }
 },
 "nbformat": 4,
 "nbformat_minor": 2
}
