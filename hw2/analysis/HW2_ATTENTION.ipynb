{
 "cells": [
  {
   "cell_type": "code",
   "execution_count": 1,
   "metadata": {},
   "outputs": [
    {
     "data": {
      "text/plain": [
       "<torch._C.Generator at 0x11d3b8ab0>"
      ]
     },
     "execution_count": 1,
     "metadata": {},
     "output_type": "execute_result"
    }
   ],
   "source": [
    "import matplotlib.pyplot as plt \n",
    "import numpy as np\n",
    "import operator\n",
    "from statistics import pstdev\n",
    "%matplotlib inline\n",
    "import torch\n",
    "import torch.nn as nn\n",
    "import torch.nn.functional as F\n",
    "import torch.optim as optim\n",
    "import time\n",
    "import sys\n",
    "sys.path.insert(0, \"../code\")\n",
    "from get_result import show_result\n",
    "from WAC import WAC\n",
    "from WAC_ATT import WAC_ATT\n",
    "from WAC_ATT_2 import WAC_ATT_2\n",
    "from WAC_SATT import WAC_SATT\n",
    "from WAC_MATT import WAC_MATT\n",
    "from WAC_MATT_T import WAC_MATT_T\n",
    "from data_pre import data_preprocessing\n",
    "import pickle\n",
    "import warnings\n",
    "warnings.filterwarnings('ignore')\n",
    "torch.manual_seed(1)"
   ]
  },
  {
   "cell_type": "code",
   "execution_count": 2,
   "metadata": {},
   "outputs": [
    {
     "name": "stdout",
     "output_type": "stream",
     "text": [
      "runtime: 1.484684944152832\n"
     ]
    }
   ],
   "source": [
    "(voc_ix, train_data,test_data, dev_data) = data_preprocessing()\n",
    "ix_voc = {}\n",
    "for k,i in voc_ix.items():\n",
    "    ix_voc[i] = k"
   ]
  },
  {
   "cell_type": "markdown",
   "metadata": {},
   "source": [
    "# Word Averaging Binary Classifier "
   ]
  },
  {
   "cell_type": "markdown",
   "metadata": {},
   "source": [
    "## Implementation\n",
    "* Implemented in `WAC.py` and `wac_eval.py`\n",
    "\n",
    "* I use batch size of 500\n",
    "\n",
    "* Use Adagrad, with `lr = 1e-02`\n",
    "\n",
    "* Use embedding dimension of 100\n",
    "\n",
    "* Use sparse wordembedding with dimension 100; initialized uniformly between -0.l and 0.1 (did find significant improvement compared with when weights initialized between -1 and 1)"
   ]
  },
  {
   "cell_type": "markdown",
   "metadata": {},
   "source": [
    "## Analysis"
   ]
  },
  {
   "cell_type": "code",
   "execution_count": 3,
   "metadata": {},
   "outputs": [
    {
     "name": "stdout",
     "output_type": "stream",
     "text": [
      "show result for wac.pt\n",
      "performance of best model:\n",
      "model acc on train data: 0.9455968165822803\n",
      "model acc on dev data: 0.8211009174311926\n",
      "model acc on test data: 0.8110928061504667\n"
     ]
    }
   ],
   "source": [
    "name = 'wac.pt'\n",
    "model1 = show_result(name, train_data, dev_data,test_data,sample = False)"
   ]
  },
  {
   "cell_type": "markdown",
   "metadata": {},
   "source": [
    "### Compare L2 norm of word embedding"
   ]
  },
  {
   "cell_type": "code",
   "execution_count": 4,
   "metadata": {},
   "outputs": [],
   "source": [
    "word_norm = (model1.word_embeddings.weight.data**2).sum(dim = 1).numpy()\n",
    "word_norm = np.sqrt(word_norm)"
   ]
  },
  {
   "cell_type": "code",
   "execution_count": 5,
   "metadata": {},
   "outputs": [
    {
     "data": {
      "image/png": "[encoded data removed]",
      "text/plain": [
       "<Figure size 432x288 with 1 Axes>"
      ]
     },
     "metadata": {},
     "output_type": "display_data"
    }
   ],
   "source": [
    "plt.hist(word_norm,bins = 100)\n",
    "plt.title(\"Distribution of Norms of Words\")\n",
    "plt.show()"
   ]
  },
  {
   "cell_type": "code",
   "execution_count": 6,
   "metadata": {},
   "outputs": [],
   "source": [
    "word_norm_ix = word_norm.argsort()"
   ]
  },
  {
   "cell_type": "code",
   "execution_count": 7,
   "metadata": {},
   "outputs": [
    {
     "name": "stdout",
     "output_type": "stream",
     "text": [
      "words with least norm\n",
      "\n",
      "word \t: norm\n",
      "\n",
      "Carrera\t: 0.47581183910369873\n",
      "\n",
      "deathbed\t: 0.4863074719905853\n",
      "\n",
      "waltzes\t: 0.48984774947166443\n",
      "\n",
      "bio\t: 0.4902549684047699\n",
      "\n",
      "Strap\t: 0.4966864585876465\n",
      "\n",
      "Pabst\t: 0.4998193383216858\n",
      "\n",
      "driving\t: 0.5006687045097351\n",
      "\n",
      "Ferzan\t: 0.5024561882019043\n",
      "\n",
      "hedonist\t: 0.5024824738502502\n",
      "\n",
      "sea\t: 0.5034908056259155\n",
      "\n",
      "locales\t: 0.5041689872741699\n",
      "\n",
      "marvels\t: 0.5061100721359253\n",
      "\n",
      "Shakesperean\t: 0.5062376260757446\n",
      "\n",
      "gargantuan\t: 0.5063695907592773\n",
      "\n",
      "unlike\t: 0.5065687894821167\n",
      "\n"
     ]
    }
   ],
   "source": [
    "n_top = 15\n",
    "print(\"words with least norm\\n\")\n",
    "print(\"word \\t: norm\\n\")\n",
    "for ix in word_norm_ix[0:n_top]:\n",
    "    print(\"{}\\t: {}\\n\".format(ix_voc[ix], word_norm[ix]))"
   ]
  },
  {
   "cell_type": "code",
   "execution_count": 8,
   "metadata": {},
   "outputs": [
    {
     "name": "stdout",
     "output_type": "stream",
     "text": [
      "words with greatest norm\n",
      "\n",
      "word \t: norm\n",
      "\n",
      "remarkable\t: 4.497736930847168\n",
      "\n",
      "lacking\t: 4.360334396362305\n",
      "\n",
      "mess\t: 4.239830017089844\n",
      "\n",
      "wonderful\t: 4.0834059715271\n",
      "\n",
      "powerful\t: 4.034727096557617\n",
      "\n",
      "suffers\t: 4.002315998077393\n",
      "\n",
      "devoid\t: 4.000951766967773\n",
      "\n",
      "waste\t: 3.982226848602295\n",
      "\n",
      "hilarious\t: 3.9694108963012695\n",
      "\n",
      "lacks\t: 3.8930931091308594\n",
      "\n",
      "captures\t: 3.7990055084228516\n",
      "\n",
      "flat\t: 3.7967562675476074\n",
      "\n",
      "terrific\t: 3.767505407333374\n",
      "\n",
      "pointless\t: 3.6902318000793457\n",
      "\n"
     ]
    }
   ],
   "source": [
    "n_top = 15\n",
    "print(\"words with greatest norm\\n\")\n",
    "print(\"word \\t: norm\\n\")\n",
    "for ix in reversed(word_norm_ix[-n_top:-1]):\n",
    "    print(\"{}\\t: {}\\n\".format(ix_voc[ix], word_norm[ix]))"
   ]
  },
  {
   "cell_type": "markdown",
   "metadata": {},
   "source": [
    "## Comment:\n",
    "\n",
    "* The words with the least norm are those that \n",
    "    * do not have obvious sentiments\n",
    "    * probably rare, even never appear in training\n",
    "\n",
    "* The words with greatest norm are those that:\n",
    "    * have rather clear sentiments\n",
    "    * probably quite frequently appear in training\n",
    "    \n",
    "* If we also take a look at the overall distribution of norms for words, we can see most words haev small weight, thus are not very important for making decision; very few words have big norms as words listed above. Therefore, those strong words are probably strong signal for sentiment analysis. "
   ]
  },
  {
   "cell_type": "markdown",
   "metadata": {},
   "source": [
    "#  Attention-Weighted Word Averaging "
   ]
  },
  {
   "cell_type": "markdown",
   "metadata": {},
   "source": [
    "## Implementation\n",
    "* Implemented in `WAC_ATT.py` and `wac_att_eval.py`\n",
    "\n",
    "* I use batch size of 500\n",
    "\n",
    "* Use Adagrad, with `lr = 1e-02`\n",
    "\n",
    "* Use embedding dimension of 100\n",
    "\n",
    "* Use wordembedding with dimension 100; initialized uniformly between -0.l and 0.1 "
   ]
  },
  {
   "cell_type": "markdown",
   "metadata": {},
   "source": [
    "## Analysis:  Word Embeddings and the Attention Vector"
   ]
  },
  {
   "cell_type": "code",
   "execution_count": 9,
   "metadata": {},
   "outputs": [
    {
     "name": "stdout",
     "output_type": "stream",
     "text": [
      "show result for wac_att.pt\n",
      "performance of best model:\n",
      "model acc on train data: 0.9342974654412092\n",
      "model acc on dev data: 0.8245412844036697\n",
      "model acc on test data: 0.814387699066447\n"
     ]
    }
   ],
   "source": [
    "name = 'wac_att.pt'\n",
    "model2 = show_result(name, train_data, dev_data,test_data,sample = False)"
   ]
  },
  {
   "cell_type": "code",
   "execution_count": 10,
   "metadata": {},
   "outputs": [
    {
     "data": {
      "image/png": "[encoded data removed]",
      "text/plain": [
       "<Figure size 432x288 with 1 Axes>"
      ]
     },
     "metadata": {},
     "output_type": "display_data"
    }
   ],
   "source": [
    "cos_sim = torch.matmul(model2.u.data, model2.word_embeddings.weight.data.t())\n",
    "#cos_sim = cos_sim.numpy()[0,:]\n",
    "plt.hist(cos_sim.numpy(), bins = 100)\n",
    "plt.title(\"Distribution of cosine similarity of words\")\n",
    "plt.show()"
   ]
  },
  {
   "cell_type": "code",
   "execution_count": 11,
   "metadata": {},
   "outputs": [],
   "source": [
    "cos_sim_ix = cos_sim.argsort()"
   ]
  },
  {
   "cell_type": "code",
   "execution_count": 12,
   "metadata": {},
   "outputs": [
    {
     "name": "stdout",
     "output_type": "stream",
     "text": [
      "words with greatest cosine similarity\n",
      "\n",
      "word \t: cosine similarity\n",
      "\n",
      "mess\t: 13.902626037597656\n",
      "\n",
      "bad\t: 13.772995948791504\n",
      "\n",
      "devoid\t: 13.637480735778809\n",
      "\n",
      "waste\t: 13.105344772338867\n",
      "\n",
      "worse\t: 12.94054126739502\n",
      "\n",
      "flat\t: 12.800941467285156\n",
      "\n",
      "lacking\t: 12.536871910095215\n",
      "\n",
      "lacks\t: 12.505407333374023\n",
      "\n",
      "lack\t: 12.405756950378418\n",
      "\n",
      "none\t: 12.111207962036133\n",
      "\n",
      "suffers\t: 11.976886749267578\n",
      "\n",
      "poorly\t: 11.917226791381836\n",
      "\n",
      "pointless\t: 11.910005569458008\n",
      "\n",
      "neither\t: 11.699939727783203\n",
      "\n"
     ]
    }
   ],
   "source": [
    "n_top = 15\n",
    "print(\"words with greatest cosine similarity\\n\")\n",
    "print(\"word \\t: cosine similarity\\n\")\n",
    "for ix in reversed(cos_sim_ix[-n_top:-1]):\n",
    "    ix = ix.item()\n",
    "    print(\"{}\\t: {}\\n\".format(ix_voc[ix], cos_sim[ix]))\n"
   ]
  },
  {
   "cell_type": "code",
   "execution_count": 13,
   "metadata": {},
   "outputs": [
    {
     "name": "stdout",
     "output_type": "stream",
     "text": [
      "words with smallest cosine similarity\n",
      "\n",
      "word \t: cosine similarity\n",
      "\n",
      "and\t: -11.76754379272461\n",
      "\n",
      "with\t: -11.178474426269531\n",
      "\n",
      "you\t: -10.505175590515137\n",
      "\n",
      "film\t: -10.488924980163574\n",
      "\n",
      "an\t: -10.26484489440918\n",
      "\n",
      "comedy\t: -10.084554672241211\n",
      "\n",
      "one\t: -9.961816787719727\n",
      "\n",
      "a\t: -9.891201972961426\n",
      "\n",
      "has\t: -9.838922500610352\n",
      "\n",
      "makes\t: -9.613327026367188\n",
      "\n",
      "work\t: -9.58224868774414\n",
      "\n",
      "story\t: -9.498851776123047\n",
      "\n",
      ",\t: -9.405157089233398\n",
      "\n",
      "will\t: -9.348079681396484\n",
      "\n",
      "art\t: -9.159615516662598\n",
      "\n"
     ]
    }
   ],
   "source": [
    "n_top = 15\n",
    "print(\"words with smallest cosine similarity\\n\")\n",
    "print(\"word \\t: cosine similarity\\n\")\n",
    "for ix in cos_sim_ix[0:n_top:]:\n",
    "    ix = ix.item()\n",
    "    print(\"{}\\t: {}\\n\".format(ix_voc[ix], cos_sim[ix]))\n"
   ]
  },
  {
   "cell_type": "markdown",
   "metadata": {},
   "source": [
    "### Comment:\n",
    "My finding:\n",
    "* Words that frequently appear but not indicative of sentiments have low cosine similarity, and thus low attention \n",
    "\n",
    "* Words that have obvious, and mostly negative sentiment signal, and less frequent,  has high cosine similarity, and thus higher attention.  \n",
    "\n",
    "Hypothesis:\n",
    "* For the frequent words that don't have clear emotional meanings (appear often in both positive and negative sentences), the model learns to ignore them with small attention. \n",
    "\n",
    "* For the words that appear less often but ofen appear in negative (positive sentence), the model learns to pay more attention to it. \n",
    "\n",
    "* As to why the words that attract most attention are almost all negative, maybe it is related to how people express their feelings: positive word appears more often; a sentence can have some positive word but a single strong negative word  will decide the final sentiment. "
   ]
  },
  {
   "cell_type": "markdown",
   "metadata": {},
   "source": [
    "## Analysis: Variance of Attentions"
   ]
  },
  {
   "cell_type": "code",
   "execution_count": 14,
   "metadata": {},
   "outputs": [],
   "source": [
    "## find freq word (top 100 in training)\n",
    "voc_count = {}\n",
    "for ix in ix_voc.keys():\n",
    "    voc_count[ix] = 0\n",
    "#voc_count[0] = 0\n",
    "for sent in train_data.tensors[0]:\n",
    "    for w in sent.numpy():\n",
    "        if w != 0:\n",
    "            voc_count[w] += 1\n",
    "sorted_voc = sorted(voc_count.items(), key = operator.itemgetter(1))\n",
    "freq_word = [pair[0] for pair in reversed(sorted_voc[-100:-1])]\n",
    "\n",
    "## compute att weights for each frequent word\n",
    "freq_wordset = set(freq_word)"
   ]
  },
  {
   "cell_type": "code",
   "execution_count": 15,
   "metadata": {},
   "outputs": [],
   "source": [
    "## copy that dict to a new dict to store (std/mean)\n",
    "X,_,lens = train_data.tensors\n",
    "batch_size, maxlen = X.size()\n",
    "embeds = model2.word_embeddings(X)\n",
    "## build a mask for paddings\n",
    "mask = torch.arange(maxlen)[None,:].float() < lens[:,None].float()\n",
    "#print(mask.size())\n",
    "\n",
    "## compute attention\n",
    "u = torch.unsqueeze(model2.u,0)\n",
    "u = torch.unsqueeze(u,0)\n",
    "#sim = torch.exp(self.cosine(self.u.weight.data.view(1,1,-1), embeds))\n",
    "sim = model2.cosine(u, embeds)\n",
    "sim = torch.mul(sim.exp(), mask.float())\n",
    "\n",
    "att = sim/ sim.sum(dim = 1, keepdim=True)"
   ]
  },
  {
   "cell_type": "code",
   "execution_count": 16,
   "metadata": {},
   "outputs": [
    {
     "name": "stdout",
     "output_type": "stream",
     "text": [
      "-RRB-\n",
      "us\n",
      "-LRB-\n",
      "`\n",
      "comedy\n",
      "up\n",
      "enough\n",
      "so\n",
      "characters\n",
      "more\n",
      "out\n",
      "life\n",
      "way\n",
      "much\n",
      "''\n",
      "his\n",
      "'\n",
      "are\n",
      "film\n",
      "something\n",
      "movies\n",
      "movie\n",
      "The\n",
      "can\n",
      "...\n",
      "its\n",
      "story\n",
      "most\n",
      "work\n",
      "and\n"
     ]
    }
   ],
   "source": [
    "att_freqword = {}\n",
    "for w in freq_word:\n",
    "    att_freqword[w] = []\n",
    "    \n",
    "for sent, a,l in zip(X,att, lens):\n",
    "    for w, wa in zip(sent[:l],a[:l]):\n",
    "        if w.item() in freq_wordset:\n",
    "            att_freqword[w.item()].append(wa.item())\n",
    "            \n",
    "att_ratio = {}\n",
    "for w in freq_word:\n",
    "    att_ratio[w] = pstdev(att_freqword[w])/np.mean(att_freqword[w])\n",
    "\n",
    "att_ratio_sort = sorted(att_ratio.items(), key = operator.itemgetter(1))\n",
    "att_ratio_sort = att_ratio_sort[::-1]\n",
    "n_top = 30\n",
    "for (ix,_) in att_ratio_sort[:n_top]:\n",
    "    print(ix_voc[ix])\n"
   ]
  },
  {
   "cell_type": "markdown",
   "metadata": {},
   "source": [
    "### Comment:\n",
    "Those words are not clear indicative of emotions themselves. However, their roles in the sentences vary. For example, think about word `film`: sentences `This film ...` can be both positive and negative, and thus `film` in these sentences get small attention' however, `great film` probably only appears in positive review. The model learns (through correlation, since what matters is `good`) that on those occasions, `film` correlates with positive, thus giving it more attention.  "
   ]
  },
  {
   "cell_type": "markdown",
   "metadata": {},
   "source": [
    "# Self-attention\n",
    "\n",
    "\n",
    "## Implementation\n",
    "* Implemented in `WAC_SATT.py` and `WAC_SATTR` respectively. \n",
    "\n",
    "* I use batch size of 500\n",
    "\n",
    "* Use Adagrad, with `lr = 1e-02`\n",
    "\n",
    "* Use embedding dimension of 100\n",
    "\n",
    "* Use wordembedding with dimension 100; initialized uniformly between -0.l and 0.1"
   ]
  },
  {
   "cell_type": "code",
   "execution_count": 17,
   "metadata": {},
   "outputs": [
    {
     "name": "stdout",
     "output_type": "stream",
     "text": [
      "show result for wac_satt.pt\n",
      "performance of best model:\n",
      "model acc on train data: 0.9061901438774147\n",
      "model acc on dev data: 0.8130733944954128\n",
      "model acc on test data: 0.7984623833058759\n"
     ]
    }
   ],
   "source": [
    "name = 'wac_satt.pt'\n",
    "model3 = show_result(name, train_data, dev_data,test_data,sample = False)"
   ]
  },
  {
   "cell_type": "code",
   "execution_count": 18,
   "metadata": {},
   "outputs": [
    {
     "name": "stdout",
     "output_type": "stream",
     "text": [
      "show result for wac_sattr.pt\n",
      "performance of best model:\n",
      "model acc on train data: 0.9190336901809975\n",
      "model acc on dev data: 0.8142201834862385\n",
      "model acc on test data: 0.8072487644151565\n"
     ]
    }
   ],
   "source": [
    "name = 'wac_sattr.pt'\n",
    "model4 = show_result(name, train_data, dev_data,test_data,sample = False)"
   ]
  },
  {
   "cell_type": "markdown",
   "metadata": {},
   "source": [
    "## Comment\n",
    "The self-attention models are not very stable in training. Residual connection makes it better, but still it is fragile in training with accuracy dropping rapidly after a few epochs."
   ]
  },
  {
   "cell_type": "markdown",
   "metadata": {},
   "source": [
    "# Enriching the Attention Function"
   ]
  },
  {
   "cell_type": "markdown",
   "metadata": {},
   "source": [
    "From the previous 3 models, I find that the best model is model 2 (the model that computes attention by cosine similarity with a vector $u$). So I build on its architecture.  All the other hyperparameters remain the same as previous ones. \n",
    "\n",
    "I begin by separating the key, query and value (call the model `wac_att_2`, implemented in `WAC_ATT_2.py`). Seeing it performs well, I  add another head to it (call it model `wac_matt`, implemented in `WAC_MATT.py`). \n",
    "\n",
    "Then I think $u$ is a global variable for all sentences. This means the absolute attention (similarity score) is fixed for each word, no matter in what context. Maybe we need to let it be senetence-specific. \n",
    "\n",
    "Thus I use LSTM to get a \"thought vector\" (the last hidden vector) which I think should contain context information. Then the final $u$ is the convex combination between this thought vector and original $u$. However, it is very slow to train and the result is not as good as simpler model. (This model is called `wac_attt`, with the last `t` meaning thought vector; implemented in `WAC_ATT_T.py`)\n",
    "\n",
    "I continue with this idea, and use the \"thought vector\" to compute attention for the second head. Again, it is very slow to train and the result is not as good as simpler model.  (This model is called `wac_mattt`, with the last `t` meaning thought vector; implemented in `WAC_MATT_T.py`)"
   ]
  },
  {
   "cell_type": "code",
   "execution_count": 19,
   "metadata": {},
   "outputs": [
    {
     "name": "stdout",
     "output_type": "stream",
     "text": [
      "show result for wac_att_2.pt\n",
      "performance of best model:\n",
      "model acc on train data: 0.937\n",
      "model acc on dev data: 0.8211009174311926\n",
      "model acc on test data: 0.8220757825370676\n"
     ]
    }
   ],
   "source": [
    "name = 'wac_att_2.pt'\n",
    "_ = show_result(name, train_data, dev_data,test_data,sample = True)"
   ]
  },
  {
   "cell_type": "code",
   "execution_count": 20,
   "metadata": {},
   "outputs": [
    {
     "name": "stdout",
     "output_type": "stream",
     "text": [
      "show result for wac_matt.pt\n",
      "performance of best model:\n",
      "model acc on train data: 0.936\n",
      "model acc on dev data: 0.8222477064220184\n",
      "model acc on test data: 0.8209774848984075\n"
     ]
    }
   ],
   "source": [
    "name = 'wac_matt.pt'\n",
    "_ = show_result(name, train_data, dev_data,test_data,sample = True)"
   ]
  },
  {
   "cell_type": "code",
   "execution_count": 21,
   "metadata": {},
   "outputs": [
    {
     "name": "stdout",
     "output_type": "stream",
     "text": [
      "show result for wac_attt.pt\n",
      "performance of best model:\n",
      "model acc on train data: 0.932\n",
      "model acc on dev data: 0.8176605504587156\n",
      "model acc on test data: 0.8105436573311368\n"
     ]
    }
   ],
   "source": [
    "name = 'wac_attt.pt'\n",
    "_ = show_result(name, train_data, dev_data,test_data,sample = True)"
   ]
  },
  {
   "cell_type": "code",
   "execution_count": 22,
   "metadata": {},
   "outputs": [
    {
     "name": "stdout",
     "output_type": "stream",
     "text": [
      "show result for wac_mattt.pt\n",
      "performance of best model:\n",
      "model acc on train data: 0.934\n",
      "model acc on dev data: 0.8130733944954128\n",
      "model acc on test data: 0.8077979132344866\n"
     ]
    }
   ],
   "source": [
    "name = 'wac_mattt.pt'\n",
    "_ = show_result(name, train_data, dev_data,test_data,sample = True)"
   ]
  },
  {
   "cell_type": "markdown",
   "metadata": {},
   "source": [
    "## Conclusion:\n",
    "\n",
    "### Result:\n",
    "The best model (in test dataset) so far is `wac_att_2`, which is just separating the key, value of the model in problem 2. \n",
    "\n",
    "With multihead (two head), it does better in development data, but slightly worse in test dataset. \n",
    "\n",
    "Although those that use \"thought vector\" are more complex and should learn better in theory, they do not do that well. Maybe I can tune parameter (for example parameter `lam` that controls the convex combination), but the model takes too long to train (120 seconds per epoch, whereas other LSTM-free model takes less than 10 seconds to train). \n",
    "\n",
    "### Discussion:\n",
    "From the accuracy on train, test, dev set, we can see the model overfits. Therefore, we might be able to do better on those complicated models if we add more penalty, or use sparse embedding (for some reason I cannot use sparse embedding for those models). Thus we cannot reach a conclusion about the best architecture on this task yet. "
   ]
  }
 ],
 "metadata": {
  "kernelspec": {
   "display_name": "Python 3",
   "language": "python",
   "name": "python3"
  },
  "language_info": {
   "codemirror_mode": {
    "name": "ipython",
    "version": 3
   },
   "file_extension": ".py",
   "mimetype": "text/x-python",
   "name": "python",
   "nbconvert_exporter": "python",
   "pygments_lexer": "ipython3",
   "version": "3.6.8"
  }
 },
 "nbformat": 4,
 "nbformat_minor": 2
}
