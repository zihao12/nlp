{
 "cells": [
  {
   "cell_type": "code",
   "execution_count": 1,
   "metadata": {},
   "outputs": [
    {
     "data": {
      "text/plain": [
       "<torch._C.Generator at 0x10c907c90>"
      ]
     },
     "execution_count": 1,
     "metadata": {},
     "output_type": "execute_result"
    }
   ],
   "source": [
    "import matplotlib.pyplot as plt \n",
    "import numpy as np\n",
    "import operator\n",
    "from statistics import pstdev\n",
    "%matplotlib inline\n",
    "import torch\n",
    "import torch.nn as nn\n",
    "import torch.nn.functional as F\n",
    "import torch.optim as optim\n",
    "import time\n",
    "import sys\n",
    "sys.path.insert(0, \"../code\")\n",
    "from WAC import WAC\n",
    "from WAC_ATT import WAC_ATT\n",
    "from WAC_SATT import WAC_SATT\n",
    "from data_pre import data_preprocessing\n",
    "import pickle\n",
    "import warnings\n",
    "warnings.filterwarnings('ignore')\n",
    "torch.manual_seed(1)"
   ]
  },
  {
   "cell_type": "code",
   "execution_count": 2,
   "metadata": {},
   "outputs": [
    {
     "name": "stdout",
     "output_type": "stream",
     "text": [
      "data preprocessing takes 1.2561159133911133\n"
     ]
    }
   ],
   "source": [
    "(voc_ix, trainX, trainy, testX, testy, devX, devy) = data_preprocessing() \n",
    "ix_voc = {}\n",
    "for k,i in voc_ix.items():\n",
    "    ix_voc[i] = k"
   ]
  },
  {
   "cell_type": "markdown",
   "metadata": {},
   "source": [
    "# Word Averaging Binary Classifier "
   ]
  },
  {
   "cell_type": "markdown",
   "metadata": {},
   "source": [
    "## Implementation\n",
    "* Implemented in `wac_eval.py`\n",
    "\n",
    "* I use batch size of 500\n",
    "\n",
    "* Use Adagrad, with `lr = 1e-02, lr_decay = 1e-04`\n",
    "\n",
    "* Use sparse wordembedding with dimension 100; initialized uniformly between -0.l and 0.1 (did find significant improvement compared with when weights initialized between -1 and 1)"
   ]
  },
  {
   "cell_type": "markdown",
   "metadata": {},
   "source": [
    "## Analysis"
   ]
  },
  {
   "cell_type": "code",
   "execution_count": 3,
   "metadata": {},
   "outputs": [
    {
     "name": "stdout",
     "output_type": "stream",
     "text": [
      "performance of best model:\n",
      "model acc on dev data: 0.8142201834862385\n",
      "model acc on test data: 0.8056013179571664\n"
     ]
    }
   ],
   "source": [
    "PATH = '../model/wac.pt'\n",
    "         ## evaluate data\n",
    "model1 = torch.load(PATH)\n",
    "print(\"performance of best model:\")\n",
    "print(\"model acc on dev data: {}\".format(model1.evaluate(devX, devy))) \n",
    "print(\"model acc on test data: {}\".format(model1.evaluate(testX,testy)))\n"
   ]
  },
  {
   "cell_type": "markdown",
   "metadata": {},
   "source": [
    "### Compare L2 norm of word embedding"
   ]
  },
  {
   "cell_type": "code",
   "execution_count": 4,
   "metadata": {},
   "outputs": [],
   "source": [
    "word_norm = (model1.word_embeddings.weight.data**2).sum(dim = 1).numpy()"
   ]
  },
  {
   "cell_type": "code",
   "execution_count": 5,
   "metadata": {},
   "outputs": [],
   "source": [
    "plt.hist?"
   ]
  },
  {
   "cell_type": "code",
   "execution_count": 6,
   "metadata": {},
   "outputs": [
    {
     "data": {
      "image/png": "[encoded data removed]",
      "text/plain": [
       "<Figure size 432x288 with 1 Axes>"
      ]
     },
     "metadata": {},
     "output_type": "display_data"
    }
   ],
   "source": [
    "plt.hist(word_norm,bins = 100)\n",
    "plt.title(\"Distribution of Norms of Words\")\n",
    "plt.show()"
   ]
  },
  {
   "cell_type": "code",
   "execution_count": 7,
   "metadata": {},
   "outputs": [],
   "source": [
    "word_norm_ix = word_norm.argsort()"
   ]
  },
  {
   "cell_type": "code",
   "execution_count": 8,
   "metadata": {},
   "outputs": [
    {
     "name": "stdout",
     "output_type": "stream",
     "text": [
      "words with least norm\n",
      "\n",
      "word \t: weight (sum of squared)\n",
      "\n",
      "inflict\t: 0.24982134997844696\n",
      "\n",
      "Boston\t: 0.2514069676399231\n",
      "\n",
      "blender\t: 0.2515527307987213\n",
      "\n",
      "Flotsam\t: 0.2524738311767578\n",
      "\n",
      "two-hour\t: 0.2524853050708771\n",
      "\n",
      "instilling\t: 0.2524946331977844\n",
      "\n",
      "Middle\t: 0.2531764507293701\n",
      "\n",
      "hall\t: 0.2546987533569336\n",
      "\n",
      "bastions\t: 0.2548341155052185\n",
      "\n",
      "Benoit\t: 0.25524210929870605\n",
      "\n",
      "Flowers\t: 0.25541821122169495\n",
      "\n",
      "glad-handing\t: 0.25620704889297485\n",
      "\n",
      "nurturing\t: 0.2575954496860504\n",
      "\n",
      "click\t: 0.2581007480621338\n",
      "\n",
      "locate\t: 0.25812828540802\n",
      "\n"
     ]
    }
   ],
   "source": [
    "n_top = 15\n",
    "print(\"words with least norm\\n\")\n",
    "print(\"word \\t: weight (sum of squared)\\n\")\n",
    "for ix in word_norm_ix[0:n_top]:\n",
    "    print(\"{}\\t: {}\\n\".format(ix_voc[ix], word_norm[ix]))"
   ]
  },
  {
   "cell_type": "code",
   "execution_count": 9,
   "metadata": {},
   "outputs": [
    {
     "name": "stdout",
     "output_type": "stream",
     "text": [
      "words with greatest norm\n",
      "\n",
      "word \t: weight (sum of squared)\n",
      "\n",
      "bad\t: 9.198639869689941\n",
      "\n",
      "wonderful\t: 8.305700302124023\n",
      "\n",
      "powerful\t: 7.519436359405518\n",
      "\n",
      "best\t: 7.50664758682251\n",
      "\n",
      "sweet\t: 7.486758232116699\n",
      "\n",
      "n't\t: 7.3556413650512695\n",
      "\n",
      "fascinating\t: 7.1494245529174805\n",
      "\n",
      "neither\t: 7.120573043823242\n",
      "\n",
      "no\t: 7.095647811889648\n",
      "\n",
      "lack\t: 7.060117721557617\n",
      "\n",
      "love\t: 6.879857540130615\n",
      "\n",
      "moving\t: 6.846769332885742\n",
      "\n",
      "touching\t: 6.686666011810303\n",
      "\n",
      "beautiful\t: 6.684348106384277\n",
      "\n"
     ]
    }
   ],
   "source": [
    "n_top = 15\n",
    "print(\"words with greatest norm\\n\")\n",
    "print(\"word \\t: weight (sum of squared)\\n\")\n",
    "for ix in reversed(word_norm_ix[-n_top:-1]):\n",
    "    print(\"{}\\t: {}\\n\".format(ix_voc[ix], word_norm[ix]))"
   ]
  },
  {
   "cell_type": "markdown",
   "metadata": {},
   "source": [
    "## Comment:\n",
    "\n",
    "* The words with the least norm are those that \n",
    "    * do not have obvious sentiments\n",
    "    * probably rare, even never appear in training\n",
    "\n",
    "* The words with greatest norm are those that:\n",
    "    * have rather clear sentiments\n",
    "    * probably quite frequently appear in training\n",
    "    \n",
    "* If we also take a look at the overall distribution of norms for words, we can see most words haev small weight, thus are not very important for making decision; very few words have big norms as words listed above. Therefore, those strong words are probably strong signal for sentiment analysis. "
   ]
  },
  {
   "cell_type": "markdown",
   "metadata": {},
   "source": [
    "#  Attention-Weighted Word Averaging "
   ]
  },
  {
   "cell_type": "markdown",
   "metadata": {},
   "source": [
    "## Implementation\n",
    "* Implemented in `wac_att_eval.py`\n",
    "\n",
    "* I use batch size of 500\n",
    "\n",
    "* Use Adagrad, with `lr = 1e-02, lr_decay = 1e-04`\n",
    "\n",
    "* Use sparse wordembedding with dimension 100; initialized uniformly between -0.l and 0.1 (did find significant improvement compared with when weights initialized between -1 and 1)"
   ]
  },
  {
   "cell_type": "markdown",
   "metadata": {},
   "source": [
    "## Analysis:  Word Embeddings and the Attention Vector"
   ]
  },
  {
   "cell_type": "code",
   "execution_count": 10,
   "metadata": {},
   "outputs": [
    {
     "name": "stdout",
     "output_type": "stream",
     "text": [
      "performance of best model:\n",
      "model acc on dev data: 0.819954128440367\n",
      "model acc on test data: 0.8083470620538166\n"
     ]
    }
   ],
   "source": [
    "PATH = '../model/wac_att.pt'\n",
    "         ## evaluate data\n",
    "model2 = torch.load(PATH)\n",
    "print(\"performance of best model:\")\n",
    "print(\"model acc on dev data: {}\".format(model2.evaluate(devX, devy))) \n",
    "print(\"model acc on test data: {}\".format(model2.evaluate(testX,testy)))\n"
   ]
  },
  {
   "cell_type": "code",
   "execution_count": 11,
   "metadata": {},
   "outputs": [
    {
     "data": {
      "image/png": "[encoded data removed]",
      "text/plain": [
       "<Figure size 432x288 with 1 Axes>"
      ]
     },
     "metadata": {},
     "output_type": "display_data"
    }
   ],
   "source": [
    "cos_sim = torch.matmul(model2.u.weight.data, model2.word_embeddings.weight.data.t())\n",
    "cos_sim = cos_sim.numpy()[0,:]\n",
    "plt.hist(cos_sim, bins = 100)\n",
    "plt.title(\"Distribution of cosine similarity of words\")\n",
    "plt.show()"
   ]
  },
  {
   "cell_type": "code",
   "execution_count": 12,
   "metadata": {},
   "outputs": [],
   "source": [
    "cos_sim_ix = cos_sim.argsort()"
   ]
  },
  {
   "cell_type": "code",
   "execution_count": 13,
   "metadata": {},
   "outputs": [
    {
     "name": "stdout",
     "output_type": "stream",
     "text": [
      "words with greatest cosine similarity\n",
      "\n",
      "word \t: cosine similarity\n",
      "\n",
      "wonderful\t: 7.091707229614258\n",
      "\n",
      "lacking\t: 6.978065490722656\n",
      "\n",
      "lacks\t: 6.920402526855469\n",
      "\n",
      "worst\t: 6.840902328491211\n",
      "\n",
      "refreshing\t: 6.7858405113220215\n",
      "\n",
      "bad\t: 6.674444675445557\n",
      "\n",
      "hilarious\t: 6.600433349609375\n",
      "\n",
      "remarkable\t: 6.448084831237793\n",
      "\n",
      "powerful\t: 6.230692386627197\n",
      "\n",
      "waste\t: 6.002317905426025\n",
      "\n",
      "drag\t: 5.813419818878174\n",
      "\n",
      "devoid\t: 5.797127723693848\n",
      "\n",
      "portrait\t: 5.741362571716309\n",
      "\n",
      "fails\t: 5.694167137145996\n",
      "\n"
     ]
    }
   ],
   "source": [
    "n_top = 15\n",
    "print(\"words with greatest cosine similarity\\n\")\n",
    "print(\"word \\t: cosine similarity\\n\")\n",
    "for ix in reversed(cos_sim_ix[-n_top:-1]):\n",
    "    print(\"{}\\t: {}\\n\".format(ix_voc[ix], cos_sim[ix]))\n"
   ]
  },
  {
   "cell_type": "code",
   "execution_count": 14,
   "metadata": {},
   "outputs": [
    {
     "name": "stdout",
     "output_type": "stream",
     "text": [
      "words with smallest cosine similarity\n",
      "\n",
      "word \t: cosine similarity\n",
      "\n",
      "with\t: -10.137758255004883\n",
      "\n",
      "an\t: -9.489263534545898\n",
      "\n",
      "and\t: -9.381382942199707\n",
      "\n",
      "has\t: -8.838912963867188\n",
      "\n",
      "film\t: -8.749797821044922\n",
      "\n",
      "comedy\t: -8.493102073669434\n",
      "\n",
      "a\t: -8.419336318969727\n",
      "\n",
      "A\t: -8.351747512817383\n",
      "\n",
      ",\t: -8.339771270751953\n",
      "\n",
      "you\t: -8.284390449523926\n",
      "\n",
      "story\t: -8.276102066040039\n",
      "\n",
      "one\t: -8.157045364379883\n",
      "\n",
      "as\t: -7.942155838012695\n",
      "\n",
      "their\t: -7.585980415344238\n",
      "\n",
      "while\t: -7.527484893798828\n",
      "\n"
     ]
    }
   ],
   "source": [
    "n_top = 15\n",
    "print(\"words with smallest cosine similarity\\n\")\n",
    "print(\"word \\t: cosine similarity\\n\")\n",
    "for ix in cos_sim_ix[0:n_top:]:\n",
    "    print(\"{}\\t: {}\\n\".format(ix_voc[ix], cos_sim[ix]))\n"
   ]
  },
  {
   "cell_type": "markdown",
   "metadata": {},
   "source": [
    "### Comment:\n",
    "My hypothesis is that \n",
    "* words that have obvious sentiment signal has high cosine similarity, and thus higher attention\n",
    "\n",
    "* words that frequently appear but not indicative of sentiments have low cosine similarity, and thus low attention (since they appear too often and yet not informative, the model learns to ignore them wiht small attention)"
   ]
  },
  {
   "cell_type": "markdown",
   "metadata": {},
   "source": [
    "## Analysis: Variance of Attentions"
   ]
  },
  {
   "cell_type": "code",
   "execution_count": 15,
   "metadata": {},
   "outputs": [],
   "source": [
    "## find freq word (top 100 in training)\n",
    "voc_count = {}\n",
    "for ix in ix_voc.keys():\n",
    "    voc_count[ix] = 0\n",
    "for sent in trainX:\n",
    "    for w in sent.numpy():\n",
    "        voc_count[w] += 1\n",
    "sorted_voc = sorted(voc_count.items(), key = operator.itemgetter(1))\n",
    "freq_word = [pair[0] for pair in reversed(sorted_voc[-100:-1])]\n",
    "\n",
    "## compute att weights for each frequent word\n",
    "freq_wordset = set(freq_word)\n",
    "\n",
    "att_freqword = {}\n",
    "for w in freq_word:\n",
    "    att_freqword[w] = []\n",
    "    \n",
    "## copy that dict to a new dict to store (std/mean)\n",
    "for sent in trainX:\n",
    "    ## compute attention\n",
    "    ## att = []\n",
    "    embed = model2.word_embeddings(sent)\n",
    "    att = torch.matmul(model2.u.weight.data, embed.t())\n",
    "    att = torch.exp(att)\n",
    "    att = att/att.sum()\n",
    "    for ix, w in enumerate(sent.numpy()):\n",
    "        if w in freq_wordset:\n",
    "            att_freqword[w].append(att[0,ix].item())\n",
    "## now in each (key, item), the item is a list of probs \n",
    "            \n",
    "att_ratio = {}\n",
    "for w in freq_word:\n",
    "    att_ratio[w] = pstdev(att_freqword[w])/np.mean(att_freqword[w])\n",
    "              "
   ]
  },
  {
   "cell_type": "code",
   "execution_count": 18,
   "metadata": {},
   "outputs": [],
   "source": []
  },
  {
   "cell_type": "code",
   "execution_count": 21,
   "metadata": {},
   "outputs": [
    {
     "ename": "NameError",
     "evalue": "name 'mean' is not defined",
     "output_type": "error",
     "traceback": [
      "\u001b[0;31m---------------------------------------------------------------------------\u001b[0m",
      "\u001b[0;31mNameError\u001b[0m                                 Traceback (most recent call last)",
      "\u001b[0;32m<ipython-input-21-a9d91192a27d>\u001b[0m in \u001b[0;36m<module>\u001b[0;34m()\u001b[0m\n\u001b[0;32m----> 1\u001b[0;31m \u001b[0mmean\u001b[0m\u001b[0;34m(\u001b[0m\u001b[0;34m[\u001b[0m\u001b[0;36m1\u001b[0m\u001b[0;34m,\u001b[0m\u001b[0;36m1\u001b[0m\u001b[0;34m,\u001b[0m\u001b[0;36m1\u001b[0m\u001b[0;34m]\u001b[0m\u001b[0;34m)\u001b[0m\u001b[0;34m\u001b[0m\u001b[0;34m\u001b[0m\u001b[0m\n\u001b[0m",
      "\u001b[0;31mNameError\u001b[0m: name 'mean' is not defined"
     ]
    }
   ],
   "source": [
    "np.mean"
   ]
  },
  {
   "cell_type": "code",
   "execution_count": null,
   "metadata": {},
   "outputs": [],
   "source": []
  }
 ],
 "metadata": {
  "kernelspec": {
   "display_name": "Python 3",
   "language": "python",
   "name": "python3"
  },
  "language_info": {
   "codemirror_mode": {
    "name": "ipython",
    "version": 3
   },
   "file_extension": ".py",
   "mimetype": "text/x-python",
   "name": "python",
   "nbconvert_exporter": "python",
   "pygments_lexer": "ipython3",
   "version": "3.6.8"
  }
 },
 "nbformat": 4,
 "nbformat_minor": 2
}
