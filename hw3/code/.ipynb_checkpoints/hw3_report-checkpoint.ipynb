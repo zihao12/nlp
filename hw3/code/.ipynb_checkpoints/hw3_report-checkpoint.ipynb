{
 "cells": [
  {
   "cell_type": "code",
   "execution_count": 1,
   "metadata": {},
   "outputs": [],
   "source": [
    "import numpy as np\n",
    "import itertools\n",
    "import time\n",
    "import sys\n",
    "\n",
    "from data_pre import data_preprocessing\n",
    "from misc import compute_prob_log,compute_tag_acc\n",
    "from inference import local_predictor, greedy_LR_predictor, greedy_RL_predictor, Viterbi_predictor,beam_search_predictor"
   ]
  },
  {
   "cell_type": "code",
   "execution_count": 2,
   "metadata": {},
   "outputs": [],
   "source": [
    "(data_train,data_dev,word2ix, ix2word, tag2ix, ix2tag, em_prob, trans_prob) = data_preprocessing()"
   ]
  },
  {
   "cell_type": "code",
   "execution_count": 3,
   "metadata": {},
   "outputs": [],
   "source": [
    "em_prob[em_prob == 0] = sys.float_info.min\n",
    "trans_prob[trans_prob == 0] = sys.float_info.min"
   ]
  },
  {
   "cell_type": "code",
   "execution_count": 4,
   "metadata": {},
   "outputs": [
    {
     "name": "stdout",
     "output_type": "stream",
     "text": [
      "top 5 tags with after '<s>' and probablity:\n",
      "PRP : 0.22450589735416\n",
      "NNP : 0.11596270321963657\n",
      "DT : 0.11237647433853998\n",
      "IN : 0.0781080650302837\n",
      "RB : 0.06567580490914886\n"
     ]
    }
   ],
   "source": [
    "top_tag = 5\n",
    "ix_sorted = np.argsort(trans_prob[tag2ix['<s>'],:])[::-1]\n",
    "ix = ix_sorted[:top_tag]\n",
    "print(\"top {} tags with after '<s>' and probablity:\".format(top_tag))\n",
    "for i in ix:\n",
    "    print(\"{} : {}\".format(ix2tag[i],trans_prob[tag2ix['<s>'],i] ))"
   ]
  },
  {
   "cell_type": "code",
   "execution_count": 5,
   "metadata": {},
   "outputs": [
    {
     "name": "stdout",
     "output_type": "stream",
     "text": [
      "top 10 words with tag 'JJ' and probablity:\n",
      "other : 0.023068970800645242\n",
      "good : 0.021605646023457964\n",
      "new : 0.01678528205154691\n",
      "many : 0.013686476641032664\n",
      "great : 0.013686476641032664\n",
      "same : 0.011362372583146978\n",
      "sure : 0.009554736093680334\n",
      "last : 0.009210424381400972\n",
      "few : 0.008952190597191451\n",
      "little : 0.00843572302877241\n"
     ]
    }
   ],
   "source": [
    "top_word = 10\n",
    "ix_sorted = np.argsort(em_prob[tag2ix['JJ'],:])[::-1]\n",
    "ix = ix_sorted[:top_word]\n",
    "print(\"top {} words with tag 'JJ' and probablity:\".format(top_word))\n",
    "for i in ix:\n",
    "    print(\"{} : {}\".format(ix2word[i],em_prob[tag2ix['JJ'],i] ))"
   ]
  },
  {
   "cell_type": "markdown",
   "metadata": {},
   "source": [
    "# Preliminaries for Inference with HMMs "
   ]
  },
  {
   "cell_type": "markdown",
   "metadata": {},
   "source": [
    "## Log-probability calculation\n",
    "code is in `code/misc.py/`"
   ]
  },
  {
   "cell_type": "code",
   "execution_count": 6,
   "metadata": {},
   "outputs": [
    {
     "name": "stdout",
     "output_type": "stream",
     "text": [
      "log probability of dev is -169936.39757772238\n"
     ]
    }
   ],
   "source": [
    "(corpus, tags) = data_dev\n",
    "print(\"log probability of dev is {}\".format(compute_prob_log(corpus, tags, trans_prob, em_prob, word2ix, tag2ix)))"
   ]
  },
  {
   "cell_type": "markdown",
   "metadata": {},
   "source": [
    "## Local predictor baseline"
   ]
  },
  {
   "cell_type": "code",
   "execution_count": 7,
   "metadata": {},
   "outputs": [
    {
     "name": "stdout",
     "output_type": "stream",
     "text": [
      "baseline accuracy using local predictor is 0.7988866799204771\n",
      "log prob of baseline prediction is -186408.123975879\n",
      "runtime for local predictor is 0.02632904052734375\n"
     ]
    }
   ],
   "source": [
    "(corpus, tags) = data_dev\n",
    "start = time.time()\n",
    "tags_pred = local_predictor(corpus, em_prob, word2ix, ix2tag)   \n",
    "runtime = time.time() - start\n",
    "print(\"baseline accuracy using local predictor is {}\".format(compute_tag_acc(tags_pred, tags)))\n",
    "print(\"log prob of baseline prediction is {}\".format(compute_prob_log(corpus, tags_pred, trans_prob, em_prob, word2ix, tag2ix)))\n",
    "print(\"runtime for local predictor is {}\".format(runtime))"
   ]
  },
  {
   "cell_type": "code",
   "execution_count": 8,
   "metadata": {},
   "outputs": [
    {
     "name": "stdout",
     "output_type": "stream",
     "text": [
      "accuracy using greedy lr predictor is 0.8739165009940358\n",
      "log prob of greedy lr predictor is -166274.2961495053\n",
      "runtime for greedy lr predictor is 0.15248894691467285\n"
     ]
    }
   ],
   "source": [
    "(corpus, tags) = data_dev\n",
    "start = time.time()\n",
    "tags_pred = greedy_LR_predictor(corpus, em_prob, trans_prob, word2ix, tag2ix, ix2tag) \n",
    "runtime = time.time() - start\n",
    "print(\"accuracy using greedy lr predictor is {}\".format(compute_tag_acc(tags_pred, tags)))\n",
    "print(\"log prob of greedy lr predictor is {}\".format(compute_prob_log(corpus, tags_pred, trans_prob, em_prob, word2ix, tag2ix)))\n",
    "print(\"runtime for greedy lr predictor is {}\".format(runtime))"
   ]
  },
  {
   "cell_type": "code",
   "execution_count": 9,
   "metadata": {},
   "outputs": [
    {
     "name": "stdout",
     "output_type": "stream",
     "text": [
      "accuracy using greedy rl predictor is 0.8001590457256461\n",
      "log prob of greedy rl predictor is -176754.9009696138\n",
      "runtime for greedy rl predictor is 0.1608741283416748\n"
     ]
    }
   ],
   "source": [
    "(corpus, tags) = data_dev\n",
    "start = time.time()\n",
    "tags_pred = greedy_RL_predictor(corpus, em_prob, trans_prob, word2ix, tag2ix, ix2tag) \n",
    "runtime = time.time() - start\n",
    "print(\"accuracy using greedy rl predictor is {}\".format(compute_tag_acc(tags_pred, tags)))\n",
    "print(\"log prob of greedy rl predictor is {}\".format(compute_prob_log(corpus, tags_pred, trans_prob, em_prob, word2ix, tag2ix)))\n",
    "print(\"runtime for greedy rl predictor is {}\".format(runtime))"
   ]
  },
  {
   "cell_type": "code",
   "execution_count": 10,
   "metadata": {},
   "outputs": [
    {
     "name": "stdout",
     "output_type": "stream",
     "text": [
      "accuracy using Viterbi_predictor is 0.8941153081510934\n",
      "log prob of Viterbi_predictor is -163206.89965932094\n",
      "runtime for Viterbi_predictor is 2.1364798545837402\n"
     ]
    }
   ],
   "source": [
    "(corpus, tags) = data_dev\n",
    "start = time.time()\n",
    "tags_pred = Viterbi_predictor(corpus, em_prob, trans_prob, word2ix, tag2ix, ix2tag) \n",
    "runtime = time.time() - start\n",
    "print(\"accuracy using Viterbi_predictor is {}\".format(compute_tag_acc(tags_pred, tags)))\n",
    "print(\"log prob of Viterbi_predictor is {}\".format(compute_prob_log(corpus, tags_pred, trans_prob, em_prob, word2ix, tag2ix)))\n",
    "print(\"runtime for Viterbi_predictor is {}\".format(runtime))"
   ]
  },
  {
   "cell_type": "code",
   "execution_count": 11,
   "metadata": {},
   "outputs": [
    {
     "name": "stdout",
     "output_type": "stream",
     "text": [
      "accuracy, time, logprobablity for beam search with different b\n",
      "b = 1\n",
      "accuracy: 0.8739165009940358\n",
      "log prob: -166274.2961495053\n",
      "runtime : 0.7577989101409912\n",
      "b = 2\n",
      "accuracy: 0.8886282306163021\n",
      "log prob: -164195.42520671518\n",
      "runtime : 1.3143970966339111\n",
      "b = 3\n",
      "accuracy: 0.8913320079522863\n",
      "log prob: -163687.5695046997\n",
      "runtime : 2.187837839126587\n",
      "b = 4\n",
      "accuracy: 0.8924055666003976\n",
      "log prob: -163559.7185244889\n",
      "runtime : 2.601818084716797\n",
      "b = 5\n",
      "accuracy: 0.8936381709741551\n",
      "log prob: -163473.45650404942\n",
      "runtime : 3.448378324508667\n",
      "b = 10\n",
      "accuracy: 0.8941153081510934\n",
      "log prob: -163346.67640824596\n",
      "runtime : 7.166183948516846\n",
      "b = 20\n",
      "accuracy: 0.8939562624254473\n",
      "log prob: -163315.09466568255\n",
      "runtime : 14.20955228805542\n",
      "b = 50\n",
      "accuracy: 0.8939165009940357\n",
      "log prob: -163295.48961715284\n",
      "runtime : 38.403398275375366\n"
     ]
    }
   ],
   "source": [
    "bs = [1,2,3,4,5,10,20,50] ## b = 1000 would take > 10 min\n",
    "\n",
    "accs = []\n",
    "runtimes = []\n",
    "log_probs = []\n",
    "\n",
    "(corpus, tags) = data_dev\n",
    "print(\"accuracy, time, logprobablity for beam search with different b\")\n",
    "for b in bs:\n",
    "    print(\"b = {}\".format(b))\n",
    "    start = time.time()\n",
    "    tags_pred = beam_search_predictor(corpus, em_prob, trans_prob, word2ix, tag2ix, ix2tag,b) \n",
    "    \n",
    "    runtime = time.time() - start\n",
    "    acc = compute_tag_acc(tags_pred, tags)\n",
    "    log_prob = compute_prob_log(corpus, tags_pred, trans_prob, em_prob, word2ix, tag2ix)\n",
    "    \n",
    "    accs.append(acc)\n",
    "    log_probs.append(log_prob)\n",
    "    runtimes.append(runtime)\n",
    "    \n",
    "    print(\"accuracy: {}\".format(acc))\n",
    "    print(\"log prob: {}\".format(log_prob))\n",
    "    print(\"runtime : {}\".format(runtime))"
   ]
  },
  {
   "cell_type": "code",
   "execution_count": 23,
   "metadata": {},
   "outputs": [
    {
     "data": {
      "image/png": "[encoded data removed]",
      "text/plain": [
       "<Figure size 432x288 with 1 Axes>"
      ]
     },
     "metadata": {},
     "output_type": "display_data"
    },
    {
     "data": {
      "image/png": "[encoded data removed]",
      "text/plain": [
       "<Figure size 432x288 with 1 Axes>"
      ]
     },
     "metadata": {},
     "output_type": "display_data"
    },
    {
     "data": {
      "image/png": "[encoded data removed]",
      "text/plain": [
       "<Figure size 432x288 with 1 Axes>"
      ]
     },
     "metadata": {},
     "output_type": "display_data"
    }
   ],
   "source": [
    "import matplotlib.pyplot as plt\n",
    "plt.plot(bs,runtimes)\n",
    "plt.show()\n",
    "\n",
    "plt.plot(bs,accs)\n",
    "plt.show()\n",
    "\n",
    "plt.plot(bs, log_probs)\n",
    "plt.show()"
   ]
  }
 ],
 "metadata": {
  "kernelspec": {
   "display_name": "Python 3",
   "language": "python",
   "name": "python3"
  },
  "language_info": {
   "codemirror_mode": {
    "name": "ipython",
    "version": 3
   },
   "file_extension": ".py",
   "mimetype": "text/x-python",
   "name": "python",
   "nbconvert_exporter": "python",
   "pygments_lexer": "ipython3",
   "version": "3.6.8"
  }
 },
 "nbformat": 4,
 "nbformat_minor": 2
}
