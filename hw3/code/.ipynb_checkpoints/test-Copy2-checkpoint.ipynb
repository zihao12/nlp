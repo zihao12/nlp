{
 "cells": [
  {
   "cell_type": "code",
   "execution_count": 47,
   "metadata": {},
   "outputs": [],
   "source": [
    "import numpy as np\n",
    "import itertools\n",
    "import time\n",
    "import sys\n",
    "\n",
    "from data_pre import data_preprocessing\n",
    "from misc import compute_prob_log,compute_tag_acc\n",
    "from inference import local_predictor, greedy_LR_predictor, greedy_RL_predictor, Viterbi_predictor,beam_search_predictor"
   ]
  },
  {
   "cell_type": "code",
   "execution_count": 2,
   "metadata": {},
   "outputs": [],
   "source": [
    "(data_train,data_dev,word2ix, ix2word, tag2ix, ix2tag, em_prob, trans_prob) = data_preprocessing()"
   ]
  },
  {
   "cell_type": "code",
   "execution_count": 3,
   "metadata": {},
   "outputs": [],
   "source": [
    "em_prob[em_prob == 0] = sys.float_info.min\n",
    "trans_prob[trans_prob == 0] = sys.float_info.min"
   ]
  },
  {
   "cell_type": "code",
   "execution_count": 4,
   "metadata": {},
   "outputs": [
    {
     "name": "stdout",
     "output_type": "stream",
     "text": [
      "top 5 tags with after '<s>' and probablity:\n",
      "PRP : 0.22450589735416002\n",
      "NNP : 0.11596270321963659\n",
      "DT : 0.11237647433854\n",
      "IN : 0.07810806503028371\n",
      "RB : 0.06567580490914887\n"
     ]
    }
   ],
   "source": [
    "top_tag = 5\n",
    "ix_sorted = np.argsort(trans_prob[tag2ix['<s>'],:])[::-1]\n",
    "ix = ix_sorted[:top_tag]\n",
    "print(\"top {} tags with after '<s>' and probablity:\".format(top_tag))\n",
    "for i in ix:\n",
    "    print(\"{} : {}\".format(ix2tag[i],trans_prob[tag2ix['<s>'],i] ))"
   ]
  },
  {
   "cell_type": "code",
   "execution_count": 5,
   "metadata": {},
   "outputs": [
    {
     "name": "stdout",
     "output_type": "stream",
     "text": [
      "top 10 words with tag 'JJ' and probablity:\n",
      "other : 0.023068970800645242\n",
      "good : 0.021605646023457964\n",
      "new : 0.01678528205154691\n",
      "great : 0.013686476641032664\n",
      "many : 0.013686476641032664\n",
      "same : 0.011362372583146978\n",
      "sure : 0.009554736093680334\n",
      "last : 0.009210424381400972\n",
      "few : 0.008952190597191451\n",
      "little : 0.00843572302877241\n"
     ]
    }
   ],
   "source": [
    "top_word = 10\n",
    "ix_sorted = np.argsort(em_prob[tag2ix['JJ'],:])[::-1]\n",
    "ix = ix_sorted[:top_word]\n",
    "print(\"top {} words with tag 'JJ' and probablity:\".format(top_word))\n",
    "for i in ix:\n",
    "    print(\"{} : {}\".format(ix2word[i],em_prob[tag2ix['JJ'],i] ))"
   ]
  },
  {
   "cell_type": "markdown",
   "metadata": {},
   "source": [
    "# Preliminaries for Inference with HMMs "
   ]
  },
  {
   "cell_type": "markdown",
   "metadata": {},
   "source": [
    "## Log-probability calculation\n",
    "code is in `code/misc.py/`"
   ]
  },
  {
   "cell_type": "code",
   "execution_count": 6,
   "metadata": {},
   "outputs": [
    {
     "name": "stdout",
     "output_type": "stream",
     "text": [
      "log probability of dev is -169936.39757772238\n"
     ]
    }
   ],
   "source": [
    "(corpus, tags) = data_dev\n",
    "print(\"log probability of dev is {}\".format(compute_prob_log(corpus, tags, trans_prob, em_prob, word2ix, tag2ix)))"
   ]
  },
  {
   "cell_type": "markdown",
   "metadata": {},
   "source": [
    "## Local predictor baseline"
   ]
  },
  {
   "cell_type": "code",
   "execution_count": 7,
   "metadata": {},
   "outputs": [
    {
     "name": "stdout",
     "output_type": "stream",
     "text": [
      "baseline accuracy using local predictor is 0.7988866799204771\n",
      "log prob of baseline prediction is -186408.123975879\n",
      "runtime for local predictor is 0.0166318416595459\n"
     ]
    }
   ],
   "source": [
    "(corpus, tags) = data_dev\n",
    "start = time.time()\n",
    "tags_pred = local_predictor(corpus, em_prob, word2ix, ix2tag)   \n",
    "runtime = time.time() - start\n",
    "print(\"baseline accuracy using local predictor is {}\".format(compute_tag_acc(tags_pred, tags)))\n",
    "print(\"log prob of baseline prediction is {}\".format(compute_prob_log(corpus, tags_pred, trans_prob, em_prob, word2ix, tag2ix)))\n",
    "print(\"runtime for local predictor is {}\".format(runtime))"
   ]
  },
  {
   "cell_type": "code",
   "execution_count": 18,
   "metadata": {},
   "outputs": [
    {
     "name": "stdout",
     "output_type": "stream",
     "text": [
      "accuracy using greedy lr predictor is 0.8740357852882704\n",
      "log prob of greedy lr predictor is -166188.89186830196\n",
      "runtime for greedy lr predictor is 0.18302512168884277\n"
     ]
    }
   ],
   "source": [
    "(corpus, tags) = data_dev\n",
    "start = time.time()\n",
    "tags_pred = greedy_LR_predictor(corpus, em_prob, trans_prob, word2ix, tag2ix, ix2tag) \n",
    "runtime = time.time() - start\n",
    "print(\"accuracy using greedy lr predictor is {}\".format(compute_tag_acc(tags_pred, tags)))\n",
    "print(\"log prob of greedy lr predictor is {}\".format(compute_prob_log(corpus, tags_pred, trans_prob, em_prob, word2ix, tag2ix)))\n",
    "print(\"runtime for greedy lr predictor is {}\".format(runtime))"
   ]
  },
  {
   "cell_type": "code",
   "execution_count": 9,
   "metadata": {},
   "outputs": [
    {
     "name": "stdout",
     "output_type": "stream",
     "text": [
      "accuracy using greedy rl predictor is 0.8001590457256461\n",
      "log prob of greedy rl predictor is -176754.9009696138\n",
      "runtime for greedy rl predictor is 0.15738701820373535\n"
     ]
    }
   ],
   "source": [
    "(corpus, tags) = data_dev\n",
    "start = time.time()\n",
    "tags_pred = greedy_RL_predictor(corpus, em_prob, trans_prob, word2ix, tag2ix, ix2tag) \n",
    "runtime = time.time() - start\n",
    "print(\"accuracy using greedy rl predictor is {}\".format(compute_tag_acc(tags_pred, tags)))\n",
    "print(\"log prob of greedy rl predictor is {}\".format(compute_prob_log(corpus, tags_pred, trans_prob, em_prob, word2ix, tag2ix)))\n",
    "print(\"runtime for greedy rl predictor is {}\".format(runtime))"
   ]
  },
  {
   "cell_type": "code",
   "execution_count": 10,
   "metadata": {},
   "outputs": [
    {
     "name": "stdout",
     "output_type": "stream",
     "text": [
      "accuracy using Viterbi_predictor is 0.8941153081510934\n",
      "log prob of Viterbi_predictor is -163206.89965932094\n",
      "runtime for Viterbi_predictor is 1.9148859977722168\n"
     ]
    }
   ],
   "source": [
    "(corpus, tags) = data_dev\n",
    "start = time.time()\n",
    "tags_pred = Viterbi_predictor(corpus, em_prob, trans_prob, word2ix, tag2ix, ix2tag) \n",
    "runtime = time.time() - start\n",
    "print(\"accuracy using Viterbi_predictor is {}\".format(compute_tag_acc(tags_pred, tags)))\n",
    "print(\"log prob of Viterbi_predictor is {}\".format(compute_prob_log(corpus, tags_pred, trans_prob, em_prob, word2ix, tag2ix)))\n",
    "print(\"runtime for Viterbi_predictor is {}\".format(runtime))"
   ]
  },
  {
   "cell_type": "code",
   "execution_count": 12,
   "metadata": {},
   "outputs": [
    {
     "name": "stdout",
     "output_type": "stream",
     "text": [
      "accuracy, time, logprobablity for beam search with different b\n",
      "b = 1\n",
      "accuracy: 0.8704554455445545\n",
      "log prob: -166149.50029912204\n",
      "runtime : 0.7287778854370117\n",
      "b = 2\n",
      "accuracy: 0.8851485148514852\n",
      "log prob: -164070.62942505282\n",
      "runtime : 1.345689058303833\n",
      "b = 3\n",
      "accuracy: 0.8878415841584159\n",
      "log prob: -163562.7737230373\n",
      "runtime : 1.9845540523529053\n",
      "b = 4\n",
      "accuracy: 0.8889108910891089\n",
      "log prob: -163434.92274282651\n",
      "runtime : 2.643242120742798\n",
      "b = 5\n",
      "accuracy: 0.8901386138613862\n",
      "log prob: -163348.66072238702\n",
      "runtime : 3.661022186279297\n",
      "b = 10\n",
      "accuracy: 0.8906138613861386\n",
      "log prob: -163221.88062658356\n",
      "runtime : 8.148170948028564\n",
      "b = 20\n",
      "accuracy: 0.8904554455445545\n",
      "log prob: -163190.2988840202\n",
      "runtime : 18.5357403755188\n",
      "b = 50\n",
      "accuracy: 0.8904158415841584\n",
      "log prob: -163170.69383549047\n",
      "runtime : 38.20163011550903\n"
     ]
    }
   ],
   "source": [
    "bs = [1,2,3,4,5,10,20,50] ## b = 1000 would take > 10 min\n",
    "\n",
    "accs = []\n",
    "runtimes = []\n",
    "log_probs = []\n",
    "\n",
    "(corpus, tags) = data_dev\n",
    "print(\"accuracy, time, logprobablity for beam search with different b\")\n",
    "for b in bs:\n",
    "    print(\"b = {}\".format(b))\n",
    "    start = time.time()\n",
    "    tags_pred = beam_search_predictor(corpus, em_prob, trans_prob, word2ix, tag2ix, ix2tag,b) \n",
    "    \n",
    "    runtime = time.time() - start\n",
    "    acc = compute_tag_acc(tags_pred, tags)\n",
    "    log_prob = compute_prob_log(corpus, tags_pred, trans_prob, em_prob, word2ix, tag2ix)\n",
    "    \n",
    "    accs.append(acc)\n",
    "    log_probs.append(log_prob)\n",
    "    runtimes.append(runtime)\n",
    "    \n",
    "    print(\"accuracy: {}\".format(acc))\n",
    "    print(\"log prob: {}\".format(log_prob))\n",
    "    print(\"runtime : {}\".format(runtime))"
   ]
  },
  {
   "cell_type": "code",
   "execution_count": 16,
   "metadata": {},
   "outputs": [
    {
     "data": {
      "image/png": "[encoded data removed]",
      "text/plain": [
       "<Figure size 432x288 with 1 Axes>"
      ]
     },
     "metadata": {},
     "output_type": "display_data"
    },
    {
     "data": {
      "image/png": "[encoded data removed]",
      "text/plain": [
       "<Figure size 432x288 with 1 Axes>"
      ]
     },
     "metadata": {},
     "output_type": "display_data"
    },
    {
     "data": {
      "image/png": "[encoded data removed]",
      "text/plain": [
       "<Figure size 432x288 with 1 Axes>"
      ]
     },
     "metadata": {},
     "output_type": "display_data"
    }
   ],
   "source": [
    "import matplotlib.pyplot as plt\n",
    "plt.plot(bs,runtimes)\n",
    "plt.show()\n",
    "\n",
    "plt.plot(bs,accs)\n",
    "plt.show()\n",
    "\n",
    "plt.plot(bs, log_probs)\n",
    "plt.show()"
   ]
  },
  {
   "cell_type": "markdown",
   "metadata": {},
   "source": [
    "## TO DO :\n",
    "There seem to be a problem: b= 1 does not match...!!!"
   ]
  },
  {
   "cell_type": "code",
   "execution_count": 19,
   "metadata": {},
   "outputs": [
    {
     "data": {
      "text/plain": [
       "7.167840166919364"
      ]
     },
     "execution_count": 19,
     "metadata": {},
     "output_type": "execute_result"
    }
   ],
   "source": [
    "(0.8740357852882704 - 0.8704554455445545) * len(corpus)"
   ]
  },
  {
   "cell_type": "code",
   "execution_count": 20,
   "metadata": {},
   "outputs": [
    {
     "data": {
      "text/plain": [
       "2002"
      ]
     },
     "execution_count": 20,
     "metadata": {},
     "output_type": "execute_result"
    }
   ],
   "source": [
    "len(corpus)"
   ]
  },
  {
   "cell_type": "code",
   "execution_count": 21,
   "metadata": {},
   "outputs": [
    {
     "name": "stdout",
     "output_type": "stream",
     "text": [
      "2\n",
      "3\n"
     ]
    }
   ],
   "source": [
    "a = [1,2,3,4]\n",
    "for x in a[1:-1]:\n",
    "    print(x)"
   ]
  },
  {
   "cell_type": "code",
   "execution_count": 48,
   "metadata": {},
   "outputs": [],
   "source": [
    "tags_pred_b1 = beam_search_predictor(corpus, em_prob, trans_prob, word2ix, tag2ix, ix2tag,1) \n",
    "tags_pred_lr = greedy_LR_predictor(corpus, em_prob, trans_prob, word2ix, tag2ix, ix2tag) \n"
   ]
  },
  {
   "cell_type": "code",
   "execution_count": 49,
   "metadata": {},
   "outputs": [],
   "source": [
    "idx = []\n",
    "\n",
    "i = 0\n",
    "for t1,t2 in zip(tags_pred_b1, tags_pred_lr):\n",
    "    j = 0\n",
    "    for p,q in zip(t1,t2):\n",
    "        if p!= q:\n",
    "            idx.append((i,j))\n",
    "        j += 1\n",
    "    i += 1\n",
    "            \n",
    "        \n",
    "    "
   ]
  },
  {
   "cell_type": "code",
   "execution_count": 50,
   "metadata": {},
   "outputs": [
    {
     "name": "stdout",
     "output_type": "stream",
     "text": [
      "310 NNP ADD \n",
      "['UNKNOWN']\n",
      "325 NNP ADD \n",
      "['UNKNOWN']\n",
      "329 NNP ADD \n",
      "['UNKNOWN']\n",
      "337 NNP ADD \n",
      "['UNKNOWN']\n",
      "351 NNP ADD \n",
      "['UNKNOWN']\n",
      "409 NNP ADD \n",
      "['UNKNOWN']\n",
      "456 NNP ADD \n",
      "['UNKNOWN']\n",
      "483 NNP ADD \n",
      "['UNKNOWN']\n",
      "488 NNS ADD \n",
      "['Cheers']\n",
      "570 NNP ADD \n",
      "['UNKNOWN']\n",
      "576 NNP ADD \n",
      "['UNKNOWN']\n",
      "592 NNP ADD \n",
      "['UNKNOWN']\n",
      "605 NNP ADD \n",
      "['UNKNOWN']\n",
      "612 NNP ADD \n",
      "['UNKNOWN']\n",
      "649 VB ADD \n",
      "['Visit']\n",
      "667 NNP ADD \n",
      "['UNKNOWN']\n",
      "686 NNP ADD \n",
      "['UNKNOWN']\n",
      "688 NNP ADD \n",
      "['UNKNOWN']\n",
      "763 VB ADD \n",
      "['Reply']\n",
      "783 NNP ADD \n",
      "['UNKNOWN']\n",
      "786 NNP ADD \n",
      "['UNKNOWN']\n",
      "800 NNP ADD \n",
      "['UNKNOWN']\n",
      "807 VB ADD \n",
      "['Reply']\n",
      "815 NNP ADD \n",
      "['UNKNOWN']\n",
      "819 NNP ADD \n",
      "['UNKNOWN']\n",
      "820 NNP ADD \n",
      "['UNKNOWN']\n",
      "821 NNP ADD \n",
      "['UNKNOWN']\n",
      "822 NNP ADD \n",
      "['UNKNOWN']\n",
      "823 NNP ADD \n",
      "['UNKNOWN']\n",
      "824 NNP ADD \n",
      "['UNKNOWN']\n",
      "825 NNP ADD \n",
      "['UNKNOWN']\n",
      "826 NNP ADD \n",
      "['UNKNOWN']\n",
      "827 NNP ADD \n",
      "['UNKNOWN']\n",
      "828 NNP ADD \n",
      "['UNKNOWN']\n",
      "829 NNP ADD \n",
      "['UNKNOWN']\n",
      "831 VB ADD \n",
      "['Reply']\n",
      "855 NNP ADD \n",
      "['UNKNOWN']\n",
      "879 NNP ADD \n",
      "['UNKNOWN']\n",
      "887 NNP ADD \n",
      "['UNKNOWN']\n",
      "888 NNP ADD \n",
      "['UNKNOWN']\n",
      "889 NNP ADD \n",
      "['UNKNOWN']\n",
      "900 NNP ADD \n",
      "['UNKNOWN']\n",
      "1050 NNP ADD \n",
      "['UNKNOWN']\n",
      "1054 NNP ADD \n",
      "['UNKNOWN']\n",
      "1064 NNP ADD \n",
      "['UNKNOWN']\n",
      "1067 NNP ADD \n",
      "['UNKNOWN']\n",
      "1077 NNP ADD \n",
      "['UNKNOWN']\n",
      "1142 NNP ADD \n",
      "['UNKNOWN']\n",
      "1143 NNP ADD \n",
      "['UNKNOWN']\n",
      "1179 NNP ADD \n",
      "['UNKNOWN']\n",
      "1516 NNP ADD \n",
      "['UNKNOWN']\n",
      "1522 JJ UH \n",
      "['ok']\n",
      "1546 NNP ADD \n",
      "['UNKNOWN']\n",
      "1552 NNP ADD \n",
      "['UNKNOWN']\n",
      "1577 NNP ADD \n",
      "['UNKNOWN']\n",
      "1703 NNP ADD \n",
      "['UNKNOWN']\n",
      "1780 NNP ADD \n",
      "['UNKNOWN']\n",
      "1886 NNP ADD \n",
      "['UNKNOWN']\n"
     ]
    }
   ],
   "source": [
    "for i in idx:\n",
    "    (s,w) = i\n",
    "    print(\"{} {} {} \".format(s, tags_pred_b1[s][w],tags_pred_lr[s][w]))\n",
    "    print(corpus[s])"
   ]
  },
  {
   "cell_type": "code",
   "execution_count": 34,
   "metadata": {},
   "outputs": [
    {
     "data": {
      "text/plain": [
       "[1]"
      ]
     },
     "execution_count": 34,
     "metadata": {},
     "output_type": "execute_result"
    }
   ],
   "source": [
    "a = [1,2,3]\n",
    "a[:1]"
   ]
  },
  {
   "cell_type": "code",
   "execution_count": 40,
   "metadata": {},
   "outputs": [
    {
     "data": {
      "text/plain": [
       "1886"
      ]
     },
     "execution_count": 40,
     "metadata": {},
     "output_type": "execute_result"
    }
   ],
   "source": [
    "s"
   ]
  },
  {
   "cell_type": "code",
   "execution_count": 46,
   "metadata": {},
   "outputs": [
    {
     "data": {
      "text/plain": [
       "['The',\n",
       " 'UNKNOWN',\n",
       " 'in',\n",
       " 'wheel',\n",
       " '-',\n",
       " 'chair',\n",
       " 'has',\n",
       " 'been',\n",
       " 'attacked',\n",
       " 'with',\n",
       " 'a',\n",
       " 'F',\n",
       " '-',\n",
       " '16',\n",
       " '-',\n",
       " 'launched',\n",
       " 'bomb',\n",
       " '.']"
      ]
     },
     "execution_count": 46,
     "metadata": {},
     "output_type": "execute_result"
    }
   ],
   "source": [
    "corpus[5]"
   ]
  },
  {
   "cell_type": "code",
   "execution_count": null,
   "metadata": {},
   "outputs": [],
   "source": []
  }
 ],
 "metadata": {
  "kernelspec": {
   "display_name": "Python 3",
   "language": "python",
   "name": "python3"
  },
  "language_info": {
   "codemirror_mode": {
    "name": "ipython",
    "version": 3
   },
   "file_extension": ".py",
   "mimetype": "text/x-python",
   "name": "python",
   "nbconvert_exporter": "python",
   "pygments_lexer": "ipython3",
   "version": "3.6.8"
  }
 },
 "nbformat": 4,
 "nbformat_minor": 2
}
