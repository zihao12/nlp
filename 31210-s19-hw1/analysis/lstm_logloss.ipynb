{
 "cells": [
  {
   "cell_type": "code",
   "execution_count": 1,
   "metadata": {
    "colab": {
     "base_uri": "https://localhost:8080/",
     "height": 34
    },
    "colab_type": "code",
    "executionInfo": {
     "elapsed": 941,
     "status": "ok",
     "timestamp": 1554959824263,
     "user": {
      "displayName": "Zihao Wang",
      "photoUrl": "",
      "userId": "14649247267919917861"
     },
     "user_tz": 300
    },
    "id": "QR0QG6Fc07O4",
    "outputId": "52df6a4f-9b77-48f3-e0dd-392ff621be87"
   },
   "outputs": [
    {
     "data": {
      "text/plain": [
       "<torch._C.Generator at 0x10700fbb0>"
      ]
     },
     "execution_count": 1,
     "metadata": {},
     "output_type": "execute_result"
    }
   ],
   "source": [
    "import torch\n",
    "import torch.nn as nn\n",
    "import torch.nn.functional as F\n",
    "import torch.optim as optim\n",
    "import time\n",
    "import pickle\n",
    "torch.manual_seed(1)"
   ]
  },
  {
   "cell_type": "code",
   "execution_count": 3,
   "metadata": {
    "colab": {
     "base_uri": "https://localhost:8080/",
     "height": 232
    },
    "colab_type": "code",
    "executionInfo": {
     "elapsed": 1163,
     "status": "error",
     "timestamp": 1554959824488,
     "user": {
      "displayName": "Zihao Wang",
      "photoUrl": "",
      "userId": "14649247267919917861"
     },
     "user_tz": 300
    },
    "id": "DOcNm9TS07O9",
    "outputId": "318624b3-7d0f-4de7-d23b-604f1322ee88"
   },
   "outputs": [],
   "source": [
    "## load vocab and turn into idx\n",
    "with open(\"../data/bobsue.voc.txt\", \"r\") as f:\n",
    "    voc = f.read().splitlines() \n",
    "voc_ix = {}\n",
    "for idx, val in enumerate(voc):\n",
    "    voc_ix[val] = idx"
   ]
  },
  {
   "cell_type": "code",
   "execution_count": 4,
   "metadata": {
    "colab": {},
    "colab_type": "code",
    "id": "1L9gWA6d07O-"
   },
   "outputs": [],
   "source": [
    "## load training samples\n",
    "with open(\"../data/bobsue.lm.train.txt\", \"r\") as f:\n",
    "    train = f.read().splitlines()\n",
    "with open(\"../data/bobsue.lm.test.txt\", \"r\") as f:\n",
    "    test = f.read().splitlines()\n",
    "with open(\"../data/bobsue.lm.dev.txt\", \"r\") as f:\n",
    "    dev = f.read().splitlines()"
   ]
  },
  {
   "cell_type": "code",
   "execution_count": 5,
   "metadata": {
    "colab": {},
    "colab_type": "code",
    "id": "_HNJtZ7T07PA"
   },
   "outputs": [],
   "source": [
    "## output X, y given a sentence\n",
    "def prepare_sequence(seq, to_ix):\n",
    "    seq = seq.split()\n",
    "    X_idxs = [to_ix[w] for w in seq[:-1]]\n",
    "    y_idxs = [to_ix[w] for w in seq[1:]]\n",
    "    return (torch.tensor(X_idxs, dtype=torch.long),torch.tensor(y_idxs, dtype=torch.long))\n"
   ]
  },
  {
   "cell_type": "code",
   "execution_count": 6,
   "metadata": {
    "colab": {},
    "colab_type": "code",
    "id": "nKO9vsAR07PC"
   },
   "outputs": [],
   "source": [
    "class LSTMlm(nn.Module):\n",
    "\n",
    "    def __init__(self, embedding_dim, hidden_dim, vocab_size):\n",
    "        super(LSTMlm, self).__init__()\n",
    "        self.hidden_dim = hidden_dim\n",
    "        self.word_embeddings = nn.Embedding(vocab_size, embedding_dim)\n",
    "        self.lstm = nn.LSTM(embedding_dim, hidden_dim)\n",
    "        self.hidden2score = nn.Linear(hidden_dim, vocab_size)\n",
    "\n",
    "    def forward(self, sentence):\n",
    "        embeds = self.word_embeddings(sentence)\n",
    "        lstm_out, _ = self.lstm(embeds.view(len(sentence), 1, -1))\n",
    "        scores = self.hidden2score(lstm_out.view(len(sentence), -1))\n",
    "        probs = F.softmax(scores, dim = 1)\n",
    "        return probs"
   ]
  },
  {
   "cell_type": "code",
   "execution_count": 7,
   "metadata": {
    "colab": {},
    "colab_type": "code",
    "id": "ndH3G4lP07PE"
   },
   "outputs": [],
   "source": [
    "def evaluate(model, data):\n",
    "    total = 0\n",
    "    correct = 0\n",
    "    for sentence in data:\n",
    "        Xy = prepare_sequence(sentence, voc_ix)\n",
    "        X = Xy[0]\n",
    "        y = Xy[1]\n",
    "        total += len(y)\n",
    "        probs = model(X)\n",
    "        for idx, pred in enumerate(probs):\n",
    "            if pred.argmax().item() == y[idx]:\n",
    "                correct += 1\n",
    "    return correct/total\n",
    "        "
   ]
  },
  {
   "cell_type": "code",
   "execution_count": 8,
   "metadata": {
    "colab": {},
    "colab_type": "code",
    "id": "jXXIabmm07PF"
   },
   "outputs": [],
   "source": [
    "## In this ipnb I didn't run the following. The training is done before and the best model is stored\n",
    "## set hyperparameters\n",
    "VOCAB_SIZE = len(voc_ix)\n",
    "EMBEDDING_DIM = 200\n",
    "HIDDEN_DIM = 200\n",
    "eval_per = 1000\n",
    "\n",
    "## define model \n",
    "model = LSTMlm(EMBEDDING_DIM, HIDDEN_DIM, VOCAB_SIZE)\n",
    "loss_function = nn.CrossEntropyLoss()\n",
    "optimizer = optim.Adam(model.parameters())\n",
    "\n",
    "\n",
    "## training \n",
    "losses = []\n",
    "accs = []\n",
    "best_dev_acc = 0\n",
    "start = time.time()\n",
    "for epoch in range(17):  \n",
    "    print(\"epoch \" + str(epoch))\n",
    "    total_loss = 0\n",
    "    for i,sentence in enumerate(train):\n",
    "        if i % eval_per == 0:\n",
    "            acc = evaluate(model, dev)\n",
    "            if acc > best_dev_acc:\n",
    "                best_dev_acc = acc\n",
    "                torch.save(model, \"../lstmlm_cen_best.pt\")\n",
    "            print(\"accuracy on dev: \" + str(acc))\n",
    "            accs.append(acc)\n",
    "        # Step 1. clear grad\n",
    "        model.zero_grad()\n",
    "\n",
    "        # Step 2. Get inputs ready for the network\n",
    "        Xy = prepare_sequence(sentence, voc_ix)\n",
    "        X = Xy[0]\n",
    "        y = Xy[1]\n",
    "        \n",
    "        # Step 3. Run our forward pass.\n",
    "        probs = model(X)\n",
    "\n",
    "        # Step 4. Compute the loss, gradients, and update the parameters by\n",
    "        #  calling optimizer.step()\n",
    "        loss = loss_function(probs, y)\n",
    "        total_loss += loss.item()\n",
    "        loss.backward()\n",
    "        optimizer.step()\n",
    "    losses.append(total_loss)\n",
    "runtime = time.time() - start\n",
    "print(\"runtime: \" + str(runtime) + \"s\")"
   ]
  },
  {
   "cell_type": "code",
   "execution_count": 10,
   "metadata": {},
   "outputs": [
    {
     "name": "stderr",
     "output_type": "stream",
     "text": [
      "/anaconda3/lib/python3.6/site-packages/torch/serialization.py:401: UserWarning: Couldn't retrieve source code for container of type LSTMlm. It won't be checked for correctness upon loading.\n",
      "  \"type \" + container_type.__name__ + \". It won't be checked \"\n",
      "/anaconda3/lib/python3.6/site-packages/torch/serialization.py:435: SourceChangeWarning: source code of class 'torch.nn.modules.sparse.Embedding' has changed. you can retrieve the original source code by accessing the object's source attribute or set `torch.nn.Module.dump_patches = True` and use the patch tool to revert the changes.\n",
      "  warnings.warn(msg, SourceChangeWarning)\n",
      "/anaconda3/lib/python3.6/site-packages/torch/serialization.py:435: SourceChangeWarning: source code of class 'torch.nn.modules.rnn.LSTM' has changed. you can retrieve the original source code by accessing the object's source attribute or set `torch.nn.Module.dump_patches = True` and use the patch tool to revert the changes.\n",
      "  warnings.warn(msg, SourceChangeWarning)\n",
      "/anaconda3/lib/python3.6/site-packages/torch/serialization.py:435: SourceChangeWarning: source code of class 'torch.nn.modules.linear.Linear' has changed. you can retrieve the original source code by accessing the object's source attribute or set `torch.nn.Module.dump_patches = True` and use the patch tool to revert the changes.\n",
      "  warnings.warn(msg, SourceChangeWarning)\n"
     ]
    },
    {
     "name": "stdout",
     "output_type": "stream",
     "text": [
      "best model acc on dev: 0.3075279628000503\n",
      "best model acc on test: 0.30016131033627\n"
     ]
    }
   ],
   "source": [
    "PATH = \"../model/lstmlm_cen_best.pt\"\n",
    "model_best = torch.load(PATH)\n",
    "model_best.eval()\n",
    "acc_dev = evaluate(model_best, dev)\n",
    "print(\"best model acc on dev: \" + str(acc_dev))\n",
    "acc_test = evaluate(model_best, test)\n",
    "print(\"best model acc on test: \" + str(acc_test))\n"
   ]
  },
  {
   "cell_type": "code",
   "execution_count": null,
   "metadata": {},
   "outputs": [],
   "source": []
  }
 ],
 "metadata": {
  "colab": {
   "name": "lstm_logloss.ipynb",
   "provenance": [],
   "version": "0.3.2"
  },
  "kernelspec": {
   "display_name": "Python 3",
   "language": "python",
   "name": "python3"
  },
  "language_info": {
   "codemirror_mode": {
    "name": "ipython",
    "version": 3
   },
   "file_extension": ".py",
   "mimetype": "text/x-python",
   "name": "python",
   "nbconvert_exporter": "python",
   "pygments_lexer": "ipython3",
   "version": "3.6.8"
  }
 },
 "nbformat": 4,
 "nbformat_minor": 1
}
