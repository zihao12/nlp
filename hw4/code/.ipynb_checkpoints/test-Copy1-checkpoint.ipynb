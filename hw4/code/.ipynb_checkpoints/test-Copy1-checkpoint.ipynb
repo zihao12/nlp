{
 "cells": [
  {
   "cell_type": "code",
   "execution_count": 13,
   "metadata": {},
   "outputs": [],
   "source": [
    "import numpy as np\n",
    "import itertools\n",
    "import time\n",
    "import sys\n",
    "\n",
    "from data_pre import data_preprocessing\n",
    "from misc import compute_prob_log,compute_tag_acc\n",
    "from inference import local_predictor, greedy_LR_predictor, greedy_RL_predictor, Viterbi_predictor"
   ]
  },
  {
   "cell_type": "code",
   "execution_count": 14,
   "metadata": {},
   "outputs": [],
   "source": [
    "(data_train,data_dev,word2ix, ix2word, tag2ix, ix2tag, em_prob, trans_prob) = data_preprocessing()"
   ]
  },
  {
   "cell_type": "code",
   "execution_count": 15,
   "metadata": {},
   "outputs": [],
   "source": [
    "em_prob[em_prob == 0] = sys.float_info.min\n",
    "trans_prob[trans_prob == 0] = sys.float_info.min"
   ]
  },
  {
   "cell_type": "code",
   "execution_count": 16,
   "metadata": {},
   "outputs": [],
   "source": [
    "# top_tag = 5\n",
    "# ix_sorted = np.argsort(trans_prob[tag2ix['<s>'],:])[::-1]\n",
    "# ix = ix_sorted[:top_tag]\n",
    "# print(\"top {} tags with after '<s>' and probablity:\".format(top_tag))\n",
    "# for i in ix:\n",
    "#     print(\"{} : {}\".format(ix2tag[i],trans_prob[tag2ix['<s>'],i] ))"
   ]
  },
  {
   "cell_type": "code",
   "execution_count": 17,
   "metadata": {},
   "outputs": [],
   "source": [
    "# top_word = 10\n",
    "# ix_sorted = np.argsort(em_prob[tag2ix['JJ'],:])[::-1]\n",
    "# ix = ix_sorted[:top_word]\n",
    "# print(\"top {} words with tag 'JJ' and probablity:\".format(top_word))\n",
    "# for i in ix:\n",
    "#     print(\"{} : {}\".format(ix2word[i],em_prob[tag2ix['JJ'],i] ))"
   ]
  },
  {
   "cell_type": "markdown",
   "metadata": {},
   "source": [
    "# Preliminaries for Inference with HMMs "
   ]
  },
  {
   "cell_type": "markdown",
   "metadata": {},
   "source": [
    "## Log-probability calculation\n",
    "code is in `code/misc.py/`"
   ]
  },
  {
   "cell_type": "code",
   "execution_count": 18,
   "metadata": {},
   "outputs": [],
   "source": [
    "# (corpus, tags) = data_dev\n",
    "# print(\"log probability of dev is {}\".format(compute_prob_log(corpus, tags, trans_prob, em_prob, word2ix, tag2ix)))"
   ]
  },
  {
   "cell_type": "markdown",
   "metadata": {},
   "source": [
    "## Local predictor baseline"
   ]
  },
  {
   "cell_type": "code",
   "execution_count": 19,
   "metadata": {},
   "outputs": [],
   "source": [
    "# (corpus, tags) = data_dev\n",
    "# start = time.time()\n",
    "# tags_pred = local_predictor(corpus, em_prob, word2ix, ix2tag)   \n",
    "# runtime = time.time() - start\n",
    "# print(\"baseline accuracy using local predictor is {}\".format(compute_tag_acc(tags_pred, tags)))\n",
    "# print(\"log prob of baseline prediction is {}\".format(compute_prob_log(corpus, tags_pred, trans_prob, em_prob, word2ix, tag2ix)))\n",
    "# print(\"runtime for local predictor is {}\".format(runtime))"
   ]
  },
  {
   "cell_type": "code",
   "execution_count": 20,
   "metadata": {},
   "outputs": [],
   "source": [
    "# (corpus, tags) = data_dev\n",
    "# start = time.time()\n",
    "# tags_pred = greedy_LR_predictor(corpus, em_prob, trans_prob, word2ix, tag2ix, ix2tag) \n",
    "# runtime = time.time() - start\n",
    "# print(\"accuracy using greedy lr predictor is {}\".format(compute_tag_acc(tags_pred, tags)))\n",
    "# print(\"log prob of greedy lr predictor is {}\".format(compute_prob_log(corpus, tags_pred, trans_prob, em_prob, word2ix, tag2ix)))\n",
    "# print(\"runtime for greedy lr predictor is {}\".format(runtime))"
   ]
  },
  {
   "cell_type": "code",
   "execution_count": 21,
   "metadata": {},
   "outputs": [],
   "source": [
    "# (corpus, tags) = data_dev\n",
    "# start = time.time()\n",
    "# tags_pred = greedy_RL_predictor(corpus, em_prob, trans_prob, word2ix, tag2ix, ix2tag) \n",
    "# runtime = time.time() - start\n",
    "# print(\"accuracy using greedy rl predictor is {}\".format(compute_tag_acc(tags_pred, tags)))\n",
    "# print(\"log prob of greedy rl predictor is {}\".format(compute_prob_log(corpus, tags_pred, trans_prob, em_prob, word2ix, tag2ix)))\n",
    "# print(\"runtime for greedy rl predictor is {}\".format(runtime))"
   ]
  },
  {
   "cell_type": "code",
   "execution_count": 22,
   "metadata": {},
   "outputs": [],
   "source": [
    "# (corpus, tags) = data_dev\n",
    "# start = time.time()\n",
    "# tags_pred = Viterbi_predictor(corpus, em_prob, trans_prob, word2ix, tag2ix, ix2tag) \n",
    "# runtime = time.time() - start\n",
    "# print(\"accuracy using Viterbi_predictor is {}\".format(compute_tag_acc(tags_pred, tags)))\n",
    "# print(\"log prob of Viterbi_predictor is {}\".format(compute_prob_log(corpus, tags_pred, trans_prob, em_prob, word2ix, tag2ix)))\n",
    "# print(\"runtime for Viterbi_predictor is {}\".format(runtime))"
   ]
  },
  {
   "cell_type": "code",
   "execution_count": 83,
   "metadata": {},
   "outputs": [],
   "source": [
    "def beam_search_predictor(corpus, em_prob, trans_prob, word2ix, tag2ix, ix2tag, top = 5):\n",
    "    tags_pred = []\n",
    "\n",
    "    for Xs in corpus:\n",
    "        xs = [word2ix[x] for x in Xs]\n",
    "        B = beam_search(xs,em_prob, trans_prob, tag2ix,top)\n",
    "        last = B.pop()\n",
    "        (y,v,i) = last[0]\n",
    "        tags = [y] ##yT\n",
    "        while len(B) > 0:\n",
    "            last = B.pop()\n",
    "            (y,v,i) = last[i]\n",
    "            tags.append(y) \n",
    "        tags = tags[::-1]\n",
    "        tags = [ix2tag[y] for y in tags]\n",
    "        tags_pred.append(tags)\n",
    "\n",
    "    return tags_pred\n",
    "\n",
    "\n",
    "def beam_search(xs,em_prob, trans_prob, tag2ix, top):\n",
    "    B = []\n",
    "    ## A(1), B(1)\n",
    "    x = xs[0]\n",
    "    vs = np.log(em_prob[:,x]) + np.log(trans_prob[tag2ix['<s>'],:])\n",
    "    item = [(ix,v,-1) for ix,v in enumerate(vs)]\n",
    "    B.append(maxb(item,top))\n",
    "    ## A(t), B(t)\n",
    "    for x in xs[1:-1]:\n",
    "        item = []\n",
    "        for j,b in enumerate(B[-1]):\n",
    "            (yh,vh,ih) = b\n",
    "            vs = np.log(em_prob[:,x]) + np.log(trans_prob[yh,:]) + vh\n",
    "            As = [(ix,v,j) for ix,v in enumerate(vs)] ## this part is too slow!!\n",
    "            item.append(As)\n",
    "        item = list(itertools.chain.from_iterable(item))\n",
    "        B.append(maxb(item,top))\n",
    "\n",
    "    ## A(T),B(T)\n",
    "    x = xs[-1]\n",
    "    item = []\n",
    "    for j,b in enumerate(B[-1]):\n",
    "        (yh,vh,ih) = b\n",
    "        vs = np.log(em_prob[:,x]) + np.log(trans_prob[yh,:]) + vh + np.log(trans_prob[:,tag2ix['</s>']])\n",
    "        As = [(ix,v,j) for ix,v in enumerate(vs)]\n",
    "        item.append(As)\n",
    "    item = list(itertools.chain.from_iterable(item))\n",
    "    B.append(maxb(item,1))\n",
    "\n",
    "    return B\n",
    "\n",
    "def maxb(item, b):\n",
    "    item = sorted(item, key=lambda x: x[1])[::-1]\n",
    "    return item[:b]\n"
   ]
  },
  {
   "cell_type": "code",
   "execution_count": 84,
   "metadata": {},
   "outputs": [
    {
     "name": "stdout",
     "output_type": "stream",
     "text": [
      "accuracy using Viterbi_predictor is 0.8901386138613862\n",
      "log prob of Viterbi_predictor is -163348.66072238702\n",
      "runtime for Viterbi_predictor is 3.1500351428985596\n"
     ]
    }
   ],
   "source": [
    "b = 100\n",
    "(corpus, tags) = data_dev\n",
    "start = time.time()\n",
    "tags_pred = beam_search_predictor(corpus, em_prob, trans_prob, word2ix, tag2ix, ix2tag) \n",
    "runtime = time.time() - start\n",
    "print(\"accuracy using Viterbi_predictor is {}\".format(compute_tag_acc(tags_pred, tags)))\n",
    "print(\"log prob of Viterbi_predictor is {}\".format(compute_prob_log(corpus, tags_pred, trans_prob, em_prob, word2ix, tag2ix)))\n",
    "print(\"runtime for Viterbi_predictor is {}\".format(runtime))"
   ]
  },
  {
   "cell_type": "code",
   "execution_count": null,
   "metadata": {},
   "outputs": [],
   "source": []
  }
 ],
 "metadata": {
  "kernelspec": {
   "display_name": "Python 3",
   "language": "python",
   "name": "python3"
  },
  "language_info": {
   "codemirror_mode": {
    "name": "ipython",
    "version": 3
   },
   "file_extension": ".py",
   "mimetype": "text/x-python",
   "name": "python",
   "nbconvert_exporter": "python",
   "pygments_lexer": "ipython3",
   "version": "3.6.8"
  }
 },
 "nbformat": 4,
 "nbformat_minor": 2
}
