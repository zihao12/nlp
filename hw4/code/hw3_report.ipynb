{
 "cells": [
  {
   "cell_type": "code",
   "execution_count": 1,
   "metadata": {},
   "outputs": [],
   "source": [
    "import numpy as np\n",
    "import itertools\n",
    "import time\n",
    "import sys\n",
    "\n",
    "from data_pre import data_preprocessing\n",
    "from misc import compute_prob_log,compute_tag_acc\n",
    "from inference import local_predictor, greedy_LR_predictor, greedy_RL_predictor, Viterbi_predictor,beam_search_predictor"
   ]
  },
  {
   "cell_type": "markdown",
   "metadata": {},
   "source": [
    "# Supervised Parameter Estimation for HMMs\n",
    "\n",
    "Implemented in `code/data_pre.py`\n",
    "\n",
    "(I add `sys.float_info.min` below to 0 entry just to suppress warning message. )"
   ]
  },
  {
   "cell_type": "code",
   "execution_count": 2,
   "metadata": {},
   "outputs": [],
   "source": [
    "(data_train,data_dev,word2ix, ix2word, tag2ix, ix2tag, em_prob, trans_prob) = data_preprocessing()"
   ]
  },
  {
   "cell_type": "code",
   "execution_count": 3,
   "metadata": {},
   "outputs": [],
   "source": [
    "em_prob[em_prob == 0] = sys.float_info.min\n",
    "trans_prob[trans_prob == 0] = sys.float_info.min"
   ]
  },
  {
   "cell_type": "code",
   "execution_count": 4,
   "metadata": {},
   "outputs": [
    {
     "name": "stdout",
     "output_type": "stream",
     "text": [
      "top 5 tags with after '<s>' and probablity:\n",
      "PRP : 0.22450589735416002\n",
      "NNP : 0.11596270321963659\n",
      "DT : 0.11237647433854\n",
      "IN : 0.07810806503028371\n",
      "RB : 0.06567580490914887\n"
     ]
    }
   ],
   "source": [
    "top_tag = 5\n",
    "ix_sorted = np.argsort(trans_prob[tag2ix['<s>'],:])[::-1]\n",
    "ix = ix_sorted[:top_tag]\n",
    "print(\"top {} tags with after '<s>' and probablity:\".format(top_tag))\n",
    "for i in ix:\n",
    "    print(\"{} : {}\".format(ix2tag[i],trans_prob[tag2ix['<s>'],i] ))"
   ]
  },
  {
   "cell_type": "code",
   "execution_count": 5,
   "metadata": {},
   "outputs": [
    {
     "name": "stdout",
     "output_type": "stream",
     "text": [
      "top 10 words with tag 'JJ' and probablity:\n",
      "other : 0.023068970800645242\n",
      "good : 0.021605646023457964\n",
      "new : 0.01678528205154691\n",
      "great : 0.013686476641032664\n",
      "many : 0.013686476641032664\n",
      "same : 0.011362372583146978\n",
      "sure : 0.009554736093680334\n",
      "last : 0.009210424381400972\n",
      "few : 0.008952190597191451\n",
      "little : 0.00843572302877241\n"
     ]
    }
   ],
   "source": [
    "top_word = 10\n",
    "ix_sorted = np.argsort(em_prob[tag2ix['JJ'],:])[::-1]\n",
    "ix = ix_sorted[:top_word]\n",
    "print(\"top {} words with tag 'JJ' and probablity:\".format(top_word))\n",
    "for i in ix:\n",
    "    print(\"{} : {}\".format(ix2word[i],em_prob[tag2ix['JJ'],i] ))"
   ]
  },
  {
   "cell_type": "markdown",
   "metadata": {},
   "source": [
    "# Preliminaries for Inference with HMMs "
   ]
  },
  {
   "cell_type": "markdown",
   "metadata": {},
   "source": [
    "## Log-probability calculation\n",
    "code is in `code/misc.py/`"
   ]
  },
  {
   "cell_type": "code",
   "execution_count": 6,
   "metadata": {},
   "outputs": [
    {
     "name": "stdout",
     "output_type": "stream",
     "text": [
      "log probability of dev is -169936.39757772238\n"
     ]
    }
   ],
   "source": [
    "(corpus, tags) = data_dev\n",
    "print(\"log probability of dev is {}\".format(compute_prob_log(corpus, tags, trans_prob, em_prob, word2ix, tag2ix)))"
   ]
  },
  {
   "cell_type": "markdown",
   "metadata": {},
   "source": [
    "## Local predictor baseline\n",
    "\n",
    "Implemented in `code/inference.py`"
   ]
  },
  {
   "cell_type": "code",
   "execution_count": 7,
   "metadata": {},
   "outputs": [
    {
     "name": "stdout",
     "output_type": "stream",
     "text": [
      "baseline accuracy using local predictor is 0.7988866799204771\n",
      "log prob of baseline prediction is -186408.123975879\n",
      "runtime for local predictor is 0.02616119384765625\n"
     ]
    }
   ],
   "source": [
    "(corpus, tags) = data_dev\n",
    "start = time.time()\n",
    "tags_pred = local_predictor(corpus, em_prob, word2ix, ix2tag)   \n",
    "runtime = time.time() - start\n",
    "print(\"baseline accuracy using local predictor is {}\".format(compute_tag_acc(tags_pred, tags)))\n",
    "print(\"log prob of baseline prediction is {}\".format(compute_prob_log(corpus, tags_pred, trans_prob, em_prob, word2ix, tag2ix)))\n",
    "print(\"runtime for local predictor is {}\".format(runtime))"
   ]
  },
  {
   "cell_type": "markdown",
   "metadata": {},
   "source": [
    "# Greedy Left-to-Right Algorithm\n",
    "\n",
    "Implemented in `code/inference.py`"
   ]
  },
  {
   "cell_type": "code",
   "execution_count": 8,
   "metadata": {},
   "outputs": [
    {
     "name": "stdout",
     "output_type": "stream",
     "text": [
      "accuracy using greedy lr predictor is 0.8739165009940358\n",
      "log prob of greedy lr predictor is -166274.29614950533\n",
      "runtime for greedy lr predictor is 0.18198919296264648\n"
     ]
    }
   ],
   "source": [
    "(corpus, tags) = data_dev\n",
    "start = time.time()\n",
    "tags_pred = greedy_LR_predictor(corpus, em_prob, trans_prob, word2ix, tag2ix, ix2tag) \n",
    "runtime = time.time() - start\n",
    "print(\"accuracy using greedy lr predictor is {}\".format(compute_tag_acc(tags_pred, tags)))\n",
    "print(\"log prob of greedy lr predictor is {}\".format(compute_prob_log(corpus, tags_pred, trans_prob, em_prob, word2ix, tag2ix)))\n",
    "print(\"runtime for greedy lr predictor is {}\".format(runtime))"
   ]
  },
  {
   "cell_type": "markdown",
   "metadata": {},
   "source": [
    "# Greedy Right-to-Left Algorithm\n",
    "\n",
    "Implemented in `code/inference.py`"
   ]
  },
  {
   "cell_type": "code",
   "execution_count": 9,
   "metadata": {},
   "outputs": [
    {
     "name": "stdout",
     "output_type": "stream",
     "text": [
      "accuracy using greedy rl predictor is 0.8001590457256461\n",
      "log prob of greedy rl predictor is -176754.9009696138\n",
      "runtime for greedy rl predictor is 0.16004109382629395\n"
     ]
    }
   ],
   "source": [
    "(corpus, tags) = data_dev\n",
    "start = time.time()\n",
    "tags_pred = greedy_RL_predictor(corpus, em_prob, trans_prob, word2ix, tag2ix, ix2tag) \n",
    "runtime = time.time() - start\n",
    "print(\"accuracy using greedy rl predictor is {}\".format(compute_tag_acc(tags_pred, tags)))\n",
    "print(\"log prob of greedy rl predictor is {}\".format(compute_prob_log(corpus, tags_pred, trans_prob, em_prob, word2ix, tag2ix)))\n",
    "print(\"runtime for greedy rl predictor is {}\".format(runtime))"
   ]
  },
  {
   "cell_type": "markdown",
   "metadata": {},
   "source": [
    "## Discuss the result:\n",
    "* Accuracy is much worse than Left-to-Right, very close to our local predictor baseline. \n",
    "\n",
    "* Log-probability, though worse than Left-to-Right, is much better than that of local predictor baseline\n",
    "\n",
    "* It seems that Right-to-Left learns rather \"blindly\" from our estimated transmission probability\n",
    "\n",
    "* It depends on the English grammar: given the current word one can determine the tag of the next word , than  the previous word (for example, \"the\" most probably be followed by a noun, but the reverse is probably not true). In other words, the distribution is more spiky in the rows of transmission probability matrix than  its column. (the maximum of rows and columns of transition probability matrix shown below)\n",
    "\n",
    "* Although probably much worse than Left-to-Right in general, there might be some rare case when Right-to-Left may be more useful.Therefore, to improve upon it, we may combine the two direction: when for example left-to-right finds itself facing a few equally likelily candidate, the model might make the decision based on Right-to-Left result.   "
   ]
  },
  {
   "cell_type": "code",
   "execution_count": 18,
   "metadata": {},
   "outputs": [
    {
     "name": "stdout",
     "output_type": "stream",
     "text": [
      "max conditional probability for next word\n"
     ]
    },
    {
     "data": {
      "image/png": "[encoded data removed]",
      "text/plain": [
       "<Figure size 432x288 with 1 Axes>"
      ]
     },
     "metadata": {},
     "output_type": "display_data"
    },
    {
     "name": "stdout",
     "output_type": "stream",
     "text": [
      "max conditional probability for previous word\n"
     ]
    },
    {
     "data": {
      "image/png": "[encoded data removed]",
      "text/plain": [
       "<Figure size 432x288 with 1 Axes>"
      ]
     },
     "metadata": {},
     "output_type": "display_data"
    }
   ],
   "source": [
    "print(\"max conditional probability for next word\")\n",
    "plt.hist(trans_prob.max(axis = 1))\n",
    "plt.show()\n",
    "print(\"max conditional probability for previous word\")\n",
    "plt.hist(trans_prob.max(axis = 0))\n",
    "plt.show()"
   ]
  },
  {
   "cell_type": "markdown",
   "metadata": {},
   "source": [
    "# Exact Inference with Viterbi\n",
    "\n",
    "Implemented in `code/inference.py`"
   ]
  },
  {
   "cell_type": "code",
   "execution_count": 10,
   "metadata": {},
   "outputs": [
    {
     "name": "stdout",
     "output_type": "stream",
     "text": [
      "accuracy using Viterbi_predictor is 0.8941153081510934\n",
      "log prob of Viterbi_predictor is -163206.89965932094\n",
      "runtime for Viterbi_predictor is 1.9520409107208252\n"
     ]
    }
   ],
   "source": [
    "(corpus, tags) = data_dev\n",
    "start = time.time()\n",
    "tags_pred = Viterbi_predictor(corpus, em_prob, trans_prob, word2ix, tag2ix, ix2tag) \n",
    "runtime = time.time() - start\n",
    "print(\"accuracy using Viterbi_predictor is {}\".format(compute_tag_acc(tags_pred, tags)))\n",
    "print(\"log prob of Viterbi_predictor is {}\".format(compute_prob_log(corpus, tags_pred, trans_prob, em_prob, word2ix, tag2ix)))\n",
    "print(\"runtime for Viterbi_predictor is {}\".format(runtime))"
   ]
  },
  {
   "cell_type": "code",
   "execution_count": 11,
   "metadata": {},
   "outputs": [
    {
     "name": "stdout",
     "output_type": "stream",
     "text": [
      "accuracy, time, logprobablity for beam search with different b\n",
      "b = 1\n",
      "accuracy: 0.8739165009940358\n",
      "log prob: -166274.29614950533\n",
      "runtime : 0.6889479160308838\n",
      "b = 2\n",
      "accuracy: 0.8886282306163021\n",
      "log prob: -164195.42520671518\n",
      "runtime : 1.3856902122497559\n",
      "b = 3\n",
      "accuracy: 0.8913320079522863\n",
      "log prob: -163687.5695046997\n",
      "runtime : 2.0054268836975098\n",
      "b = 4\n",
      "accuracy: 0.8924055666003976\n",
      "log prob: -163559.71852448894\n",
      "runtime : 2.6391260623931885\n",
      "b = 5\n",
      "accuracy: 0.8936381709741551\n",
      "log prob: -163473.45650404942\n",
      "runtime : 3.478754997253418\n",
      "b = 10\n",
      "accuracy: 0.8941153081510934\n",
      "log prob: -163346.67640824596\n",
      "runtime : 6.580466032028198\n",
      "b = 20\n",
      "accuracy: 0.8939562624254473\n",
      "log prob: -163315.09466568255\n",
      "runtime : 14.01413869857788\n",
      "b = 50\n",
      "accuracy: 0.8939165009940357\n",
      "log prob: -163295.48961715284\n",
      "runtime : 36.665101766586304\n",
      "b = 1000\n",
      "accuracy: 0.8939960238568588\n",
      "log prob: -163292.41709581664\n",
      "runtime : 909.2248351573944\n"
     ]
    }
   ],
   "source": [
    "bs = [1,2,3,4,5,10,20,50, 1000] ## b = 1000 would take > 10 min\n",
    "\n",
    "accs = []\n",
    "runtimes = []\n",
    "log_probs = []\n",
    "\n",
    "(corpus, tags) = data_dev\n",
    "print(\"accuracy, time, logprobablity for beam search with different b\")\n",
    "for b in bs:\n",
    "    print(\"b = {}\".format(b))\n",
    "    start = time.time()\n",
    "    tags_pred = beam_search_predictor(corpus, em_prob, trans_prob, word2ix, tag2ix, ix2tag,b) \n",
    "    \n",
    "    runtime = time.time() - start\n",
    "    acc = compute_tag_acc(tags_pred, tags)\n",
    "    log_prob = compute_prob_log(corpus, tags_pred, trans_prob, em_prob, word2ix, tag2ix)\n",
    "    \n",
    "    accs.append(acc)\n",
    "    log_probs.append(log_prob)\n",
    "    runtimes.append(runtime)\n",
    "    \n",
    "    print(\"accuracy: {}\".format(acc))\n",
    "    print(\"log prob: {}\".format(log_prob))\n",
    "    print(\"runtime : {}\".format(runtime))"
   ]
  },
  {
   "cell_type": "code",
   "execution_count": 20,
   "metadata": {},
   "outputs": [
    {
     "data": {
      "image/png": "[encoded data removed]",
      "text/plain": [
       "<Figure size 432x288 with 1 Axes>"
      ]
     },
     "metadata": {},
     "output_type": "display_data"
    },
    {
     "data": {
      "image/png": "[encoded data removed]",
      "text/plain": [
       "<Figure size 432x288 with 1 Axes>"
      ]
     },
     "metadata": {},
     "output_type": "display_data"
    },
    {
     "data": {
      "image/png": "[encoded data removed]",
      "text/plain": [
       "<Figure size 432x288 with 1 Axes>"
      ]
     },
     "metadata": {},
     "output_type": "display_data"
    }
   ],
   "source": [
    "import matplotlib.pyplot as plt\n",
    "plt.plot(bs,runtimes)\n",
    "plt.xlabel(\"b\")\n",
    "plt.ylabel(\"runtime\")\n",
    "plt.show()\n",
    "\n",
    "plt.plot(bs,accs)\n",
    "plt.xlabel(\"b\")\n",
    "plt.ylabel(\"accuracy\")\n",
    "plt.show()\n",
    "\n",
    "plt.plot(bs, log_probs)\n",
    "plt.xlabel(\"b\")\n",
    "plt.ylabel(\"log probability\")\n",
    "plt.show()"
   ]
  },
  {
   "cell_type": "markdown",
   "metadata": {},
   "source": [
    "## Comment:\n",
    "It seems that when $b = 10$ we have the best accuracy"
   ]
  }
 ],
 "metadata": {
  "kernelspec": {
   "display_name": "Python 3",
   "language": "python",
   "name": "python3"
  },
  "language_info": {
   "codemirror_mode": {
    "name": "ipython",
    "version": 3
   },
   "file_extension": ".py",
   "mimetype": "text/x-python",
   "name": "python",
   "nbconvert_exporter": "python",
   "pygments_lexer": "ipython3",
   "version": "3.6.8"
  }
 },
 "nbformat": 4,
 "nbformat_minor": 2
}
