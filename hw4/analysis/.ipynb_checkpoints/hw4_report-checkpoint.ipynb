{
 "cells": [
  {
   "cell_type": "markdown",
   "metadata": {},
   "source": [
    "# Gibbs Sampling for HMM"
   ]
  },
  {
   "cell_type": "markdown",
   "metadata": {},
   "source": [
    "## (a)\n",
    "\n",
    "\\begin{align}\n",
    "P(Y_t = y | Y_{-t} = y_{-t}, X = x) & = \\frac{P(Y_t = y, Y_{-t} = y_{-t}, X = x)}{P(Y_{-t} = y_{-t}, X = x)}\\\\\n",
    "& = \\frac{P(Y_1 = y_1) \\Pi_{i = 2}^T P(Y_i = y_i | Y_{i-1} = y_{i-1}) \\Pi_{i = 1}^T P(X_i = x_i | Y_i = y_i)}\n",
    "{\\int P(Y_{-t} = y_{-t}, X = x, Y_t = y) dy}\\\\\n",
    "& = \\frac{const \\times P(Y_t = y | Y_{t-1} = y_{t-1}) P(Y_{t+1} = y_{t+1} | Y_{t} = y) P(X_t = x_t | Y_t = y)}{const}\\\\\n",
    "& \\propto P(Y_t = y | Y_{t-1} = y_{t-1}) P(Y_{t+1} = y_{t+1} | Y_{t} = y) P(X_t = x_t | Y_t = y)\n",
    "\\end{align}\n",
    "\n",
    "Note I just leave out terms not relevant to $y$ as constant. "
   ]
  },
  {
   "cell_type": "markdown",
   "metadata": {},
   "source": [
    "## (b)\n",
    "For $t = 1$, from the same formula above, we get \n",
    "$$P(Y_1 = y | Y_{-1} = y_{-1}, X = x) \\propto P(Y_{2} = y_{2} | Y_{1} = y) P(Y_{1} = y | Y_{0} = <s>) P(X_1 = x_1 | Y_1 = y)$$\n",
    "\n",
    "For $t = T$, from the same formula above, we get \n",
    "$$P(Y_T = y | Y_{-T} = y_{-T}, X = x) \\propto P(</s> | Y_{T} = y) P(Y_{T} = y | Y_{T-1} = y_{T-1}) P(X_T = x_T | Y_T = y)$$"
   ]
  },
  {
   "cell_type": "markdown",
   "metadata": {},
   "source": [
    "## (c) \n",
    "code is implemented in `../code/gibbs.py`"
   ]
  },
  {
   "cell_type": "code",
   "execution_count": 1,
   "metadata": {},
   "outputs": [],
   "source": [
    "import sys\n",
    "sys.path.insert(0, \"../code\")\n",
    "import numpy as np\n",
    "import itertools\n",
    "import time\n",
    "import sys\n",
    "from gibbs import gibbs, gibbs_predictor\n",
    "from data_pre import data_preprocessing\n",
    "from misc import compute_prob_log,compute_tag_acc\n",
    "import matplotlib.pyplot as plt\n",
    "\n"
   ]
  },
  {
   "cell_type": "code",
   "execution_count": 2,
   "metadata": {},
   "outputs": [],
   "source": [
    "(data_train,data_dev,word2ix, ix2word, tag2ix, ix2tag, em_prob, trans_prob) = data_preprocessing()\n",
    "em_prob[em_prob == 0] = sys.float_info.min\n",
    "trans_prob[trans_prob == 0] = sys.float_info.min"
   ]
  },
  {
   "cell_type": "code",
   "execution_count": 3,
   "metadata": {},
   "outputs": [
    {
     "name": "stdout",
     "output_type": "stream",
     "text": [
      "accuracy using gibbs sampling is 0.8612326043737575\n",
      "log prob of gibbs prediction is -166910.44364890136\n",
      "runtime for gibbs sampling with K = 5 is 4.444889783859253\n"
     ]
    },
    {
     "data": {
      "image/png": "[encoded data removed]",
      "text/plain": [
       "<Figure size 432x288 with 1 Axes>"
      ]
     },
     "metadata": {},
     "output_type": "display_data"
    }
   ],
   "source": [
    "(corpus, tags) = data_dev\n",
    "K = 5\n",
    "start = time.time()\n",
    "(tags_pred, n_changes) = gibbs_predictor(corpus, em_prob, trans_prob, tag2ix, word2ix,ix2tag, K=K)   \n",
    "runtime = time.time() - start\n",
    "print(\"accuracy using gibbs sampling is {}\".format(compute_tag_acc(tags_pred, tags)))\n",
    "print(\"log prob of gibbs prediction is {}\".format(compute_prob_log(corpus, tags_pred, trans_prob, em_prob, word2ix, tag2ix)))\n",
    "print(\"runtime for gibbs sampling with K = {} is {}\".format(K, runtime))\n",
    "n_changes = np.array(n_changes)\n",
    "plt.plot(n_changes.mean(axis = 0))\n",
    "plt.title(\"N_iter vs average changes \")\n",
    "plt.xlabel(\"N_iter\")\n",
    "plt.show()"
   ]
  },
  {
   "cell_type": "markdown",
   "metadata": {},
   "source": [
    "### Comment:\n",
    "With number of iterations growing, the number of changes decrease (but not to zero)"
   ]
  },
  {
   "cell_type": "markdown",
   "metadata": {},
   "source": [
    "## (d)"
   ]
  },
  {
   "cell_type": "code",
   "execution_count": 4,
   "metadata": {},
   "outputs": [
    {
     "name": "stdout",
     "output_type": "stream",
     "text": [
      "Gibbs sampling with K = 2\n",
      "accuracy : 0.7805566600397614\n",
      "log prob : -182012.9532886222\n",
      "runtime  : 1.1817638874053955\n",
      "Gibbs sampling with K = 5\n",
      "accuracy : 0.8622664015904573\n",
      "log prob : -166751.4497148372\n",
      "runtime  : 4.8518760204315186\n",
      "Gibbs sampling with K = 10\n",
      "accuracy : 0.8650099403578528\n",
      "log prob : -166560.94313675203\n",
      "runtime  : 9.539601802825928\n"
     ]
    }
   ],
   "source": [
    "# Ks = [2,5,10,50,100,500,1000]\n",
    "Ks = [2,5,10]\n",
    "for K in Ks:\n",
    "    start = time.time()\n",
    "    (tags_pred, _) = gibbs_predictor(corpus, em_prob, trans_prob, tag2ix, word2ix,ix2tag, K=K)   \n",
    "    runtime = time.time() - start\n",
    "    print(\"Gibbs sampling with K = {}\".format(K))\n",
    "    print(\"accuracy : {}\".format(compute_tag_acc(tags_pred, tags)))\n",
    "    print(\"log prob : {}\".format(compute_prob_log(corpus, tags_pred, trans_prob, em_prob, word2ix, tag2ix)))\n",
    "    print(\"runtime  : {}\".format(runtime))"
   ]
  },
  {
   "cell_type": "markdown",
   "metadata": {},
   "source": [
    "## (e)"
   ]
  },
  {
   "cell_type": "code",
   "execution_count": 5,
   "metadata": {},
   "outputs": [
    {
     "name": "stdout",
     "output_type": "stream",
     "text": [
      "##--------------------------##\n",
      "         beta = 0.5\n",
      "##--------------------------##\n",
      "Gibbs sampling with K = 2\n",
      "accuracy : 0.6338767395626242\n",
      "log prob : -225130.62237568822\n",
      "runtime  : 1.1721441745758057\n",
      "Gibbs sampling with K = 5\n",
      "accuracy : 0.7589662027833002\n",
      "log prob : -190710.84771795638\n",
      "runtime  : 4.320422172546387\n",
      "##--------------------------##\n",
      "         beta = 2\n",
      "##--------------------------##\n"
     ]
    },
    {
     "name": "stderr",
     "output_type": "stream",
     "text": [
      "../code/gibbs.py:23: RuntimeWarning: invalid value encountered in true_divide\n",
      "  probs = probs/probs.sum()\n",
      "../code/gibbs.py:27: RuntimeWarning: invalid value encountered in less\n",
      "  state[j] = np.random.choice(trans_prob.shape[0], size = 1, p = probs)[0]\n"
     ]
    },
    {
     "name": "stdout",
     "output_type": "stream",
     "text": [
      "Gibbs sampling with K = 2\n",
      "accuracy : 0.792286282306163\n",
      "log prob : -182360.26648912102\n",
      "runtime  : 1.1754169464111328\n",
      "Gibbs sampling with K = 5\n",
      "accuracy : 0.8747514910536779\n",
      "log prob : -164755.75013598567\n",
      "runtime  : 4.418702125549316\n",
      "##--------------------------##\n",
      "         beta = 5\n",
      "##--------------------------##\n",
      "Gibbs sampling with K = 2\n",
      "accuracy : 0.7979721669980119\n",
      "log prob : -181209.07094283146\n",
      "runtime  : 1.163093090057373\n",
      "Gibbs sampling with K = 5\n",
      "accuracy : 0.8807554671968191\n",
      "log prob : -164178.00392249427\n",
      "runtime  : 4.286706924438477\n"
     ]
    }
   ],
   "source": [
    "# # Ks = [2,5,10,50,100,500,1000]\n",
    "# betas = [0.5,2,5]\n",
    "# Ks = [2,5]\n",
    "# for beta in betas:\n",
    "#     print(\"##--------------------------##\")\n",
    "#     print(\"         beta = {}\".format(beta))\n",
    "#     print(\"##--------------------------##\")\n",
    "#     for K in Ks:\n",
    "#         start = time.time()\n",
    "#         (tags_pred, _) = gibbs_predictor(corpus, em_prob, trans_prob, tag2ix, word2ix,ix2tag, K=K, beta = beta)   \n",
    "#         runtime = time.time() - start\n",
    "#         print(\"Gibbs sampling with K = {}\".format(K))\n",
    "#         print(\"accuracy : {}\".format(compute_tag_acc(tags_pred, tags)))\n",
    "#         print(\"log prob : {}\".format(compute_prob_log(corpus, tags_pred, trans_prob, em_prob, word2ix, tag2ix)))\n",
    "#         print(\"runtime  : {}\".format(runtime))"
   ]
  },
  {
   "cell_type": "code",
   "execution_count": 6,
   "metadata": {},
   "outputs": [
    {
     "name": "stdout",
     "output_type": "stream",
     "text": [
      "##--------------------------##\n",
      "         beta = 0.5\n",
      "##--------------------------##\n"
     ]
    },
    {
     "name": "stderr",
     "output_type": "stream",
     "text": [
      "../code/gibbs.py:23: RuntimeWarning: invalid value encountered in true_divide\n",
      "  probs = probs/probs.sum()\n",
      "../code/gibbs.py:27: RuntimeWarning: invalid value encountered in less\n",
      "  state[j] = np.random.choice(trans_prob.shape[0], size = 1, p = probs)[0]\n"
     ]
    },
    {
     "name": "stdout",
     "output_type": "stream",
     "text": [
      "Gibbs sampling with K = 2\n",
      "accuracy : 0.7586878727634195\n",
      "log prob : -189136.77360083204\n",
      "runtime  : 1.2207190990447998\n",
      "Gibbs sampling with K = 5\n",
      "accuracy : 0.8498608349900596\n",
      "log prob : -169845.97029231623\n",
      "runtime  : 4.550026893615723\n",
      "##--------------------------##\n",
      "         beta = 2\n",
      "##--------------------------##\n"
     ]
    },
    {
     "ename": "KeyboardInterrupt",
     "evalue": "",
     "output_type": "error",
     "traceback": [
      "\u001b[0;31m---------------------------------------------------------------------------\u001b[0m",
      "\u001b[0;31mKeyboardInterrupt\u001b[0m                         Traceback (most recent call last)",
      "\u001b[0;32m<ipython-input-6-95c6f202993d>\u001b[0m in \u001b[0;36m<module>\u001b[0;34m()\u001b[0m\n\u001b[1;32m     10\u001b[0m         \u001b[0mstart\u001b[0m \u001b[0;34m=\u001b[0m \u001b[0mtime\u001b[0m\u001b[0;34m.\u001b[0m\u001b[0mtime\u001b[0m\u001b[0;34m(\u001b[0m\u001b[0;34m)\u001b[0m\u001b[0;34m\u001b[0m\u001b[0;34m\u001b[0m\u001b[0m\n\u001b[1;32m     11\u001b[0m         (tags_pred, _) = gibbs_predictor(corpus, em_prob, trans_prob, tag2ix, word2ix,ix2tag, \n\u001b[0;32m---> 12\u001b[0;31m                                          K=K, beta = beta, annealing = annealing)   \n\u001b[0m\u001b[1;32m     13\u001b[0m         \u001b[0mruntime\u001b[0m \u001b[0;34m=\u001b[0m \u001b[0mtime\u001b[0m\u001b[0;34m.\u001b[0m\u001b[0mtime\u001b[0m\u001b[0;34m(\u001b[0m\u001b[0;34m)\u001b[0m \u001b[0;34m-\u001b[0m \u001b[0mstart\u001b[0m\u001b[0;34m\u001b[0m\u001b[0;34m\u001b[0m\u001b[0m\n\u001b[1;32m     14\u001b[0m         \u001b[0mprint\u001b[0m\u001b[0;34m(\u001b[0m\u001b[0;34m\"Gibbs sampling with K = {}\"\u001b[0m\u001b[0;34m.\u001b[0m\u001b[0mformat\u001b[0m\u001b[0;34m(\u001b[0m\u001b[0mK\u001b[0m\u001b[0;34m)\u001b[0m\u001b[0;34m)\u001b[0m\u001b[0;34m\u001b[0m\u001b[0;34m\u001b[0m\u001b[0m\n",
      "\u001b[0;32m~/Desktop/nlp/hw4/code/gibbs.py\u001b[0m in \u001b[0;36mgibbs_predictor\u001b[0;34m(corpus, em_prob, trans_prob, tag2ix, word2ix, ix2tag, K, beta, annealing)\u001b[0m\n\u001b[1;32m     39\u001b[0m         \u001b[0;32mfor\u001b[0m \u001b[0msent\u001b[0m \u001b[0;32min\u001b[0m \u001b[0mcorpus\u001b[0m\u001b[0;34m:\u001b[0m\u001b[0;34m\u001b[0m\u001b[0;34m\u001b[0m\u001b[0m\n\u001b[1;32m     40\u001b[0m \t\t(posterior, n_changes) = gibbs(sent, em_prob, trans_prob, tag2ix, word2ix, \\\n\u001b[0;32m---> 41\u001b[0;31m \t\t\tK, beta = beta,annealing = annealing)\n\u001b[0m\u001b[1;32m     42\u001b[0m                 \u001b[0mtags\u001b[0m \u001b[0;34m=\u001b[0m \u001b[0mposterior\u001b[0m\u001b[0;34m[\u001b[0m\u001b[0;34m-\u001b[0m\u001b[0;36m1\u001b[0m\u001b[0;34m,\u001b[0m\u001b[0;34m:\u001b[0m\u001b[0;34m]\u001b[0m\u001b[0;34m\u001b[0m\u001b[0;34m\u001b[0m\u001b[0m\n\u001b[1;32m     43\u001b[0m                 \u001b[0mtags\u001b[0m \u001b[0;34m=\u001b[0m \u001b[0;34m[\u001b[0m\u001b[0mix2tag\u001b[0m\u001b[0;34m[\u001b[0m\u001b[0mt\u001b[0m\u001b[0;34m]\u001b[0m \u001b[0;32mfor\u001b[0m \u001b[0mt\u001b[0m \u001b[0;32min\u001b[0m \u001b[0mtags\u001b[0m\u001b[0;34m]\u001b[0m\u001b[0;34m\u001b[0m\u001b[0;34m\u001b[0m\u001b[0m\n",
      "\u001b[0;32m~/Desktop/nlp/hw4/code/gibbs.py\u001b[0m in \u001b[0;36mgibbs\u001b[0;34m(sent, em_prob, trans_prob, tag2ix, word2ix, K, beta, annealing)\u001b[0m\n\u001b[1;32m     25\u001b[0m                         \u001b[0;31m#state[j] = np.random.multinomial(1, np.exp(probs_log))\u001b[0m\u001b[0;34m\u001b[0m\u001b[0;34m\u001b[0m\u001b[0;34m\u001b[0m\u001b[0m\n\u001b[1;32m     26\u001b[0m                         \u001b[0mold\u001b[0m \u001b[0;34m=\u001b[0m \u001b[0mstate\u001b[0m\u001b[0;34m[\u001b[0m\u001b[0mj\u001b[0m\u001b[0;34m]\u001b[0m\u001b[0;34m\u001b[0m\u001b[0;34m\u001b[0m\u001b[0m\n\u001b[0;32m---> 27\u001b[0;31m                         \u001b[0mstate\u001b[0m\u001b[0;34m[\u001b[0m\u001b[0mj\u001b[0m\u001b[0;34m]\u001b[0m \u001b[0;34m=\u001b[0m \u001b[0mnp\u001b[0m\u001b[0;34m.\u001b[0m\u001b[0mrandom\u001b[0m\u001b[0;34m.\u001b[0m\u001b[0mchoice\u001b[0m\u001b[0;34m(\u001b[0m\u001b[0mtrans_prob\u001b[0m\u001b[0;34m.\u001b[0m\u001b[0mshape\u001b[0m\u001b[0;34m[\u001b[0m\u001b[0;36m0\u001b[0m\u001b[0;34m]\u001b[0m\u001b[0;34m,\u001b[0m \u001b[0msize\u001b[0m \u001b[0;34m=\u001b[0m \u001b[0;36m1\u001b[0m\u001b[0;34m,\u001b[0m \u001b[0mp\u001b[0m \u001b[0;34m=\u001b[0m \u001b[0mprobs\u001b[0m\u001b[0;34m)\u001b[0m\u001b[0;34m[\u001b[0m\u001b[0;36m0\u001b[0m\u001b[0;34m]\u001b[0m\u001b[0;34m\u001b[0m\u001b[0;34m\u001b[0m\u001b[0m\n\u001b[0m\u001b[1;32m     28\u001b[0m                         \u001b[0;32mif\u001b[0m \u001b[0mstate\u001b[0m\u001b[0;34m[\u001b[0m\u001b[0mj\u001b[0m\u001b[0;34m]\u001b[0m \u001b[0;34m!=\u001b[0m \u001b[0mold\u001b[0m\u001b[0;34m:\u001b[0m\u001b[0;34m\u001b[0m\u001b[0;34m\u001b[0m\u001b[0m\n\u001b[1;32m     29\u001b[0m                                 \u001b[0mn_change\u001b[0m \u001b[0;34m+=\u001b[0m \u001b[0;36m1\u001b[0m\u001b[0;34m\u001b[0m\u001b[0;34m\u001b[0m\u001b[0m\n",
      "\u001b[0;32mmtrand.pyx\u001b[0m in \u001b[0;36mmtrand.RandomState.choice\u001b[0;34m()\u001b[0m\n",
      "\u001b[0;32m/anaconda3/lib/python3.6/site-packages/numpy/core/fromnumeric.py\u001b[0m in \u001b[0;36mprod\u001b[0;34m(a, axis, dtype, out, keepdims)\u001b[0m\n\u001b[1;32m   2564\u001b[0m \u001b[0;34m\u001b[0m\u001b[0m\n\u001b[1;32m   2565\u001b[0m     return _methods._prod(a, axis=axis, dtype=dtype,\n\u001b[0;32m-> 2566\u001b[0;31m                           out=out, **kwargs)\n\u001b[0m\u001b[1;32m   2567\u001b[0m \u001b[0;34m\u001b[0m\u001b[0m\n\u001b[1;32m   2568\u001b[0m \u001b[0;34m\u001b[0m\u001b[0m\n",
      "\u001b[0;32m/anaconda3/lib/python3.6/site-packages/numpy/core/_methods.py\u001b[0m in \u001b[0;36m_prod\u001b[0;34m(a, axis, dtype, out, keepdims)\u001b[0m\n\u001b[1;32m     33\u001b[0m \u001b[0;34m\u001b[0m\u001b[0m\n\u001b[1;32m     34\u001b[0m \u001b[0;32mdef\u001b[0m \u001b[0m_prod\u001b[0m\u001b[0;34m(\u001b[0m\u001b[0ma\u001b[0m\u001b[0;34m,\u001b[0m \u001b[0maxis\u001b[0m\u001b[0;34m=\u001b[0m\u001b[0;32mNone\u001b[0m\u001b[0;34m,\u001b[0m \u001b[0mdtype\u001b[0m\u001b[0;34m=\u001b[0m\u001b[0;32mNone\u001b[0m\u001b[0;34m,\u001b[0m \u001b[0mout\u001b[0m\u001b[0;34m=\u001b[0m\u001b[0;32mNone\u001b[0m\u001b[0;34m,\u001b[0m \u001b[0mkeepdims\u001b[0m\u001b[0;34m=\u001b[0m\u001b[0;32mFalse\u001b[0m\u001b[0;34m)\u001b[0m\u001b[0;34m:\u001b[0m\u001b[0;34m\u001b[0m\u001b[0;34m\u001b[0m\u001b[0m\n\u001b[0;32m---> 35\u001b[0;31m     \u001b[0;32mreturn\u001b[0m \u001b[0mumr_prod\u001b[0m\u001b[0;34m(\u001b[0m\u001b[0ma\u001b[0m\u001b[0;34m,\u001b[0m \u001b[0maxis\u001b[0m\u001b[0;34m,\u001b[0m \u001b[0mdtype\u001b[0m\u001b[0;34m,\u001b[0m \u001b[0mout\u001b[0m\u001b[0;34m,\u001b[0m \u001b[0mkeepdims\u001b[0m\u001b[0;34m)\u001b[0m\u001b[0;34m\u001b[0m\u001b[0;34m\u001b[0m\u001b[0m\n\u001b[0m\u001b[1;32m     36\u001b[0m \u001b[0;34m\u001b[0m\u001b[0m\n\u001b[1;32m     37\u001b[0m \u001b[0;32mdef\u001b[0m \u001b[0m_any\u001b[0m\u001b[0;34m(\u001b[0m\u001b[0ma\u001b[0m\u001b[0;34m,\u001b[0m \u001b[0maxis\u001b[0m\u001b[0;34m=\u001b[0m\u001b[0;32mNone\u001b[0m\u001b[0;34m,\u001b[0m \u001b[0mdtype\u001b[0m\u001b[0;34m=\u001b[0m\u001b[0;32mNone\u001b[0m\u001b[0;34m,\u001b[0m \u001b[0mout\u001b[0m\u001b[0;34m=\u001b[0m\u001b[0;32mNone\u001b[0m\u001b[0;34m,\u001b[0m \u001b[0mkeepdims\u001b[0m\u001b[0;34m=\u001b[0m\u001b[0;32mFalse\u001b[0m\u001b[0;34m)\u001b[0m\u001b[0;34m:\u001b[0m\u001b[0;34m\u001b[0m\u001b[0;34m\u001b[0m\u001b[0m\n",
      "\u001b[0;31mKeyboardInterrupt\u001b[0m: "
     ]
    }
   ],
   "source": [
    "# Ks = [2,5,10,50,100,500,1000]\n",
    "annealing = 0.1\n",
    "betas = [0.5,2,5]\n",
    "Ks = [2,5]\n",
    "for beta in betas:\n",
    "    print(\"##--------------------------##\")\n",
    "    print(\"         beta = {}\".format(beta))\n",
    "    print(\"##--------------------------##\")\n",
    "    for K in Ks:\n",
    "        start = time.time()\n",
    "        (tags_pred, _) = gibbs_predictor(corpus, em_prob, trans_prob, tag2ix, word2ix,ix2tag, \n",
    "                                         K=K, beta = beta, annealing = annealing)   \n",
    "        runtime = time.time() - start\n",
    "        print(\"Gibbs sampling with K = {}\".format(K))\n",
    "        print(\"accuracy : {}\".format(compute_tag_acc(tags_pred, tags)))\n",
    "        print(\"log prob : {}\".format(compute_prob_log(corpus, tags_pred, trans_prob, em_prob, word2ix, tag2ix)))\n",
    "        print(\"runtime  : {}\".format(runtime))"
   ]
  }
 ],
 "metadata": {
  "kernelspec": {
   "display_name": "Python 3",
   "language": "python",
   "name": "python3"
  },
  "language_info": {
   "codemirror_mode": {
    "name": "ipython",
    "version": 3
   },
   "file_extension": ".py",
   "mimetype": "text/x-python",
   "name": "python",
   "nbconvert_exporter": "python",
   "pygments_lexer": "ipython3",
   "version": "3.6.8"
  }
 },
 "nbformat": 4,
 "nbformat_minor": 2
}
