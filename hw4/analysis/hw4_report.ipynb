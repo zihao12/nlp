{
 "cells": [
  {
   "cell_type": "markdown",
   "metadata": {},
   "source": [
    "# Gibbs Sampling for HMM"
   ]
  },
  {
   "cell_type": "markdown",
   "metadata": {},
   "source": [
    "## (a)\n",
    "\n",
    "\\begin{align}\n",
    "P(Y_t = y | Y_{-t} = y_{-t}, X = x) & = \\frac{P(Y_t = y, Y_{-t} = y_{-t}, X = x)}{P(Y_{-t} = y_{-t}, X = x)}\\\\\n",
    "& = \\frac{P(Y_1 = y_1) \\Pi_{i = 2}^T P(Y_i = y_i | Y_{i-1} = y_{i-1}) \\Pi_{i = 1}^T P(X_i = x_i | Y_i = y_i)}\n",
    "{\\int P(Y_{-t} = y_{-t}, X = x, Y_t = y) dy}\\\\\n",
    "& = \\frac{const \\times P(Y_t = y | Y_{t-1} = y_{t-1}) P(Y_{t+1} = y_{t+1} | Y_{t} = y) P(X_t = x_t | Y_t = y)}{const}\\\\\n",
    "& \\propto P(Y_t = y | Y_{t-1} = y_{t-1}) P(Y_{t+1} = y_{t+1} | Y_{t} = y) P(X_t = x_t | Y_t = y)\n",
    "\\end{align}\n",
    "\n",
    "Note I just leave out terms not relevant to $y$ as constant. "
   ]
  },
  {
   "cell_type": "markdown",
   "metadata": {},
   "source": [
    "## (b)\n",
    "For $t = 1$, from the same formula above, we get \n",
    "$$P(Y_1 = y | Y_{-1} = y_{-1}, X = x) \\propto P(Y_{2} = y_{2} | Y_{1} = y) P(Y_{1} = y | Y_{0} = <s>) P(X_1 = x_1 | Y_1 = y)$$\n",
    "\n",
    "For $t = T$, from the same formula above, we get \n",
    "$$P(Y_T = y | Y_{-T} = y_{-T}, X = x) \\propto P(</s> | Y_{T} = y) P(Y_{T} = y | Y_{T-1} = y_{T-1}) P(X_T = x_T | Y_T = y)$$"
   ]
  },
  {
   "cell_type": "markdown",
   "metadata": {},
   "source": [
    "## (c) \n",
    "code is implemented in `../code/gibbs.py`"
   ]
  },
  {
   "cell_type": "code",
   "execution_count": 1,
   "metadata": {},
   "outputs": [],
   "source": [
    "import sys\n",
    "sys.path.insert(0, \"../code\")\n",
    "import numpy as np\n",
    "import itertools\n",
    "import time\n",
    "import sys\n",
    "from gibbs import gibbs, gibbs_predictor\n",
    "from data_pre import data_preprocessing\n",
    "from misc import compute_prob_log,compute_tag_acc\n",
    "import matplotlib.pyplot as plt\n",
    "\n"
   ]
  },
  {
   "cell_type": "code",
   "execution_count": 2,
   "metadata": {},
   "outputs": [],
   "source": [
    "(data_train,data_dev,word2ix, ix2word, tag2ix, ix2tag, em_prob, trans_prob) = data_preprocessing()\n",
    "em_prob[em_prob == 0] = sys.float_info.min\n",
    "trans_prob[trans_prob == 0] = sys.float_info.min"
   ]
  },
  {
   "cell_type": "code",
   "execution_count": 3,
   "metadata": {},
   "outputs": [
    {
     "name": "stdout",
     "output_type": "stream",
     "text": [
      "accuracy using gibbs sampling is 0.8583697813121273\n",
      "log prob of gibbs prediction is -167123.53539782861\n",
      "runtime for gibbs sampling with K = 5 is 4.431411981582642\n"
     ]
    },
    {
     "data": {
      "image/png": "[encoded data removed]",
      "text/plain": [
       "<Figure size 432x288 with 1 Axes>"
      ]
     },
     "metadata": {},
     "output_type": "display_data"
    }
   ],
   "source": [
    "(corpus, tags) = data_dev\n",
    "K = 5\n",
    "start = time.time()\n",
    "(tags_pred, n_changes) = gibbs_predictor(corpus, em_prob, trans_prob, tag2ix, word2ix,ix2tag, K=K)   \n",
    "runtime = time.time() - start\n",
    "print(\"accuracy using gibbs sampling is {}\".format(compute_tag_acc(tags_pred, tags)))\n",
    "print(\"log prob of gibbs prediction is {}\".format(compute_prob_log(corpus, tags_pred, trans_prob, em_prob, word2ix, tag2ix)))\n",
    "print(\"runtime for gibbs sampling with K = {} is {}\".format(K, runtime))\n",
    "n_changes = np.array(n_changes)\n",
    "plt.plot(n_changes.mean(axis = 0))\n",
    "plt.title(\"N_iter vs average changes \")\n",
    "plt.xlabel(\"N_iter\")\n",
    "plt.show()"
   ]
  },
  {
   "cell_type": "markdown",
   "metadata": {},
   "source": [
    "### Comment:\n",
    "With number of iterations growing, the number of changes decrease (but not to zero)"
   ]
  },
  {
   "cell_type": "markdown",
   "metadata": {},
   "source": [
    "## (d)"
   ]
  },
  {
   "cell_type": "code",
   "execution_count": 4,
   "metadata": {},
   "outputs": [
    {
     "name": "stdout",
     "output_type": "stream",
     "text": [
      "Gibbs sampling with K = 2\n",
      "accuracy : 0.7787673956262425\n",
      "log prob : -181921.5732343314\n",
      "runtime  : 1.2384967803955078\n",
      "Gibbs sampling with K = 5\n",
      "accuracy : 0.8604373757455268\n",
      "log prob : -166939.49942138811\n",
      "runtime  : 4.375675916671753\n",
      "Gibbs sampling with K = 10\n",
      "accuracy : 0.8629025844930418\n",
      "log prob : -166619.2419134717\n",
      "runtime  : 9.230531930923462\n"
     ]
    }
   ],
   "source": [
    "# Ks = [2,5,10,50,100,500,1000]\n",
    "Ks = [2,5,10]\n",
    "for K in Ks:\n",
    "    start = time.time()\n",
    "    (tags_pred, _) = gibbs_predictor(corpus, em_prob, trans_prob, tag2ix, word2ix,ix2tag, K=K)   \n",
    "    runtime = time.time() - start\n",
    "    print(\"Gibbs sampling with K = {}\".format(K))\n",
    "    print(\"accuracy : {}\".format(compute_tag_acc(tags_pred, tags)))\n",
    "    print(\"log prob : {}\".format(compute_prob_log(corpus, tags_pred, trans_prob, em_prob, word2ix, tag2ix)))\n",
    "    print(\"runtime  : {}\".format(runtime))"
   ]
  },
  {
   "cell_type": "markdown",
   "metadata": {},
   "source": [
    "## (e)"
   ]
  },
  {
   "cell_type": "code",
   "execution_count": 5,
   "metadata": {},
   "outputs": [],
   "source": [
    "# # Ks = [2,5,10,50,100,500,1000]\n",
    "# betas = [0.5,2,5]\n",
    "# Ks = [2,5]\n",
    "# for beta in betas:\n",
    "#     print(\"##--------------------------##\")\n",
    "#     print(\"         beta = {}\".format(beta))\n",
    "#     print(\"##--------------------------##\")\n",
    "#     for K in Ks:\n",
    "#         start = time.time()\n",
    "#         (tags_pred, _) = gibbs_predictor(corpus, em_prob, trans_prob, tag2ix, word2ix,ix2tag, K=K, beta = beta)   \n",
    "#         runtime = time.time() - start\n",
    "#         print(\"Gibbs sampling with K = {}\".format(K))\n",
    "#         print(\"accuracy : {}\".format(compute_tag_acc(tags_pred, tags)))\n",
    "#         print(\"log prob : {}\".format(compute_prob_log(corpus, tags_pred, trans_prob, em_prob, word2ix, tag2ix)))\n",
    "#         print(\"runtime  : {}\".format(runtime))"
   ]
  },
  {
   "cell_type": "code",
   "execution_count": 8,
   "metadata": {},
   "outputs": [
    {
     "name": "stdout",
     "output_type": "stream",
     "text": [
      "##--------------------------##\n",
      "         beta = 0.5\n",
      "##--------------------------##\n",
      "Gibbs sampling with K = 2\n",
      "accuracy : 0.5235387673956262\n",
      "log prob : -261819.44525655147\n",
      "runtime  : 1.1075129508972168\n",
      "Gibbs sampling with K = 5\n",
      "accuracy : 0.8308548707753479\n",
      "log prob : -172643.27911572703\n",
      "runtime  : 4.199375152587891\n",
      "Gibbs sampling with K = 10\n",
      "accuracy : 0.8699801192842942\n",
      "log prob : -165613.9250292143\n",
      "runtime  : 8.999047994613647\n",
      "##--------------------------##\n",
      "         beta = 2\n",
      "##--------------------------##\n"
     ]
    },
    {
     "name": "stderr",
     "output_type": "stream",
     "text": [
      "../code/gibbs.py:22: RuntimeWarning: invalid value encountered in true_divide\n",
      "  probs = probs/probs.sum()\n",
      "../code/gibbs.py:26: RuntimeWarning: invalid value encountered in less\n",
      "  state[j] = np.random.choice(trans_prob.shape[0], size = 1, p = probs)[0]\n"
     ]
    },
    {
     "name": "stdout",
     "output_type": "stream",
     "text": [
      "Gibbs sampling with K = 2\n",
      "accuracy : 0.7908151093439364\n",
      "log prob : -182123.1340744149\n",
      "runtime  : 1.1052179336547852\n",
      "Gibbs sampling with K = 5\n",
      "accuracy : 0.8770974155069583\n",
      "log prob : -164515.99557735294\n",
      "runtime  : 4.071858882904053\n",
      "Gibbs sampling with K = 10\n",
      "accuracy : 0.8826242544731611\n",
      "log prob : -164118.74751117063\n",
      "runtime  : 9.61254620552063\n",
      "##--------------------------##\n",
      "         beta = 5\n",
      "##--------------------------##\n",
      "Gibbs sampling with K = 2\n",
      "accuracy : 0.8025049701789264\n",
      "log prob : -180367.27800460733\n",
      "runtime  : 1.0999488830566406\n",
      "Gibbs sampling with K = 5\n",
      "accuracy : 0.8802385685884692\n",
      "log prob : -164263.3955340905\n",
      "runtime  : 4.181117057800293\n",
      "Gibbs sampling with K = 10\n",
      "accuracy : 0.8839363817097415\n",
      "log prob : -163981.95847781285\n",
      "runtime  : 8.955304861068726\n"
     ]
    }
   ],
   "source": [
    "# Ks = [2,5,10,50,100,500,1000]\n",
    "annealing = 0.1\n",
    "betas = [0.5,2,5]\n",
    "Ks = [2,5,10]\n",
    "for beta in betas:\n",
    "    print(\"##--------------------------##\")\n",
    "    print(\"         beta = {}\".format(beta))\n",
    "    print(\"##--------------------------##\")\n",
    "    for K in Ks:\n",
    "        start = time.time()\n",
    "        (tags_pred, _) = gibbs_predictor(corpus, em_prob, trans_prob, tag2ix, word2ix,ix2tag, \n",
    "                                         K=K, beta = beta, annealing = annealing)   \n",
    "        runtime = time.time() - start\n",
    "        print(\"Gibbs sampling with K = {}\".format(K))\n",
    "        print(\"accuracy : {}\".format(compute_tag_acc(tags_pred, tags)))\n",
    "        print(\"log prob : {}\".format(compute_prob_log(corpus, tags_pred, trans_prob, em_prob, word2ix, tag2ix)))\n",
    "        print(\"runtime  : {}\".format(runtime))"
   ]
  },
  {
   "cell_type": "code",
   "execution_count": null,
   "metadata": {},
   "outputs": [],
   "source": []
  }
 ],
 "metadata": {
  "kernelspec": {
   "display_name": "Python 3",
   "language": "python",
   "name": "python3"
  },
  "language_info": {
   "codemirror_mode": {
    "name": "ipython",
    "version": 3
   },
   "file_extension": ".py",
   "mimetype": "text/x-python",
   "name": "python",
   "nbconvert_exporter": "python",
   "pygments_lexer": "ipython3",
   "version": "3.6.8"
  }
 },
 "nbformat": 4,
 "nbformat_minor": 2
}
