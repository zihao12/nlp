{
 "cells": [
  {
   "cell_type": "markdown",
   "metadata": {},
   "source": [
    "# Gibbs Sampling for HMM"
   ]
  },
  {
   "cell_type": "markdown",
   "metadata": {},
   "source": [
    "## (a)\n",
    "\n",
    "\\begin{align}\n",
    "P(Y_t = y | Y_{-t} = y_{-t}, X = x) & = \\frac{P(Y_t = y, Y_{-t} = y_{-t}, X = x)}{P(Y_{-t} = y_{-t}, X = x)}\\\\\n",
    "& = \\frac{P(Y_1 = y_1) \\Pi_{i = 2}^T P(Y_i = y_i | Y_{i-1} = y_{i-1}) \\Pi_{i = 1}^T P(X_i = x_i | Y_i = y_i)}\n",
    "{\\int P(Y_{-t} = y_{-t}, X = x, Y_t = y) dy}\\\\\n",
    "& = \\frac{const \\times P(Y_t = y | Y_{t-1} = y_{t-1}) P(Y_{t+1} = y_{t+1} | Y_{t} = y) P(X_t = x_t | Y_t = y)}{const}\\\\\n",
    "& \\propto P(Y_t = y | Y_{t-1} = y_{t-1}) P(Y_{t+1} = y_{t+1} | Y_{t} = y) P(X_t = x_t | Y_t = y)\n",
    "\\end{align}\n",
    "\n",
    "Note I just leave out terms not relevant to $y$ as constant. "
   ]
  },
  {
   "cell_type": "markdown",
   "metadata": {},
   "source": [
    "## (b)\n",
    "For $t = 1$, from the same formula above, we get \n",
    "$$P(Y_1 = y | Y_{-1} = y_{-1}, X = x) \\propto P(Y_{2} = y_{2} | Y_{1} = y) P(Y_{1} = y | Y_{0} = <s>) P(X_1 = x_1 | Y_1 = y)$$\n",
    "\n",
    "For $t = T$, from the same formula above, we get \n",
    "$$P(Y_T = y | Y_{-T} = y_{-T}, X = x) \\propto P(</s> | Y_{T} = y) P(Y_{T} = y | Y_{T-1} = y_{T-1}) P(X_T = x_T | Y_T = y)$$"
   ]
  },
  {
   "cell_type": "markdown",
   "metadata": {},
   "source": [
    "## (c) \n",
    "code is implemented in `../code/gibbs.py`"
   ]
  },
  {
   "cell_type": "code",
   "execution_count": 1,
   "metadata": {},
   "outputs": [],
   "source": [
    "import sys\n",
    "sys.path.insert(0, \"../code\")\n",
    "import numpy as np\n",
    "import itertools\n",
    "import time\n",
    "import sys\n",
    "from gibbs import gibbs, gibbs_predictor\n",
    "from data_pre import data_preprocessing\n",
    "from misc import compute_prob_log,compute_tag_acc\n",
    "import matplotlib.pyplot as plt\n",
    "\n"
   ]
  },
  {
   "cell_type": "code",
   "execution_count": 2,
   "metadata": {},
   "outputs": [],
   "source": [
    "(data_train,data_dev,word2ix, ix2word, tag2ix, ix2tag, em_prob, trans_prob) = data_preprocessing()\n",
    "em_prob[em_prob == 0] = sys.float_info.min\n",
    "trans_prob[trans_prob == 0] = sys.float_info.min"
   ]
  },
  {
   "cell_type": "code",
   "execution_count": 3,
   "metadata": {},
   "outputs": [
    {
     "name": "stdout",
     "output_type": "stream",
     "text": [
      "accuracy using gibbs sampling is 0.8607952286282307\n",
      "log prob of gibbs prediction is -166958.28083890618\n",
      "runtime for gibbs sampling with K = 5 is 3.0637691020965576\n"
     ]
    },
    {
     "data": {
      "image/png": "[encoded data removed]",
      "text/plain": [
       "<Figure size 432x288 with 1 Axes>"
      ]
     },
     "metadata": {},
     "output_type": "display_data"
    }
   ],
   "source": [
    "(corpus, tags) = data_dev\n",
    "K = 5\n",
    "start = time.time()\n",
    "(tags_pred, n_changes) = gibbs_predictor(corpus, em_prob, trans_prob, tag2ix, word2ix,ix2tag, K=K)   \n",
    "runtime = time.time() - start\n",
    "print(\"accuracy using gibbs sampling is {}\".format(compute_tag_acc(tags_pred, tags)))\n",
    "print(\"log prob of gibbs prediction is {}\".format(compute_prob_log(corpus, tags_pred, trans_prob, em_prob, word2ix, tag2ix)))\n",
    "print(\"runtime for gibbs sampling with K = {} is {}\".format(K, runtime))\n",
    "n_changes = np.array(n_changes)\n",
    "plt.plot(n_changes.mean(axis = 0))\n",
    "plt.title(\"N_iter vs average changes \")\n",
    "plt.xlabel(\"N_iter\")\n",
    "plt.show()"
   ]
  },
  {
   "cell_type": "markdown",
   "metadata": {},
   "source": [
    "### Comment:\n",
    "With number of iterations growing, the number of changes decrease (but not to zero)"
   ]
  },
  {
   "cell_type": "markdown",
   "metadata": {},
   "source": [
    "## (d)"
   ]
  },
  {
   "cell_type": "code",
   "execution_count": 4,
   "metadata": {},
   "outputs": [
    {
     "name": "stdout",
     "output_type": "stream",
     "text": [
      "Gibbs sampling with K = 2\n",
      "accuracy : 0.7738369781312128\n",
      "log prob : -182824.95629928718\n",
      "runtime  : 0.796220064163208\n",
      "Gibbs sampling with K = 5\n",
      "accuracy : 0.8616302186878728\n",
      "log prob : -166912.14540487927\n",
      "runtime  : 3.0685460567474365\n",
      "Gibbs sampling with K = 10\n",
      "accuracy : 0.8645328031809145\n",
      "log prob : -166543.35857864498\n",
      "runtime  : 6.715641021728516\n"
     ]
    }
   ],
   "source": [
    "# Ks = [2,5,10,50,100,500,1000]\n",
    "Ks = [2,5,10]\n",
    "for K in Ks:\n",
    "    start = time.time()\n",
    "    (tags_pred, _) = gibbs_predictor(corpus, em_prob, trans_prob, tag2ix, word2ix,ix2tag, K=K)   \n",
    "    runtime = time.time() - start\n",
    "    print(\"Gibbs sampling with K = {}\".format(K))\n",
    "    print(\"accuracy : {}\".format(compute_tag_acc(tags_pred, tags)))\n",
    "    print(\"log prob : {}\".format(compute_prob_log(corpus, tags_pred, trans_prob, em_prob, word2ix, tag2ix)))\n",
    "    print(\"runtime  : {}\".format(runtime))"
   ]
  },
  {
   "cell_type": "markdown",
   "metadata": {},
   "source": [
    "## (e)"
   ]
  },
  {
   "cell_type": "code",
   "execution_count": 7,
   "metadata": {},
   "outputs": [
    {
     "name": "stdout",
     "output_type": "stream",
     "text": [
      "##--------------------------##\n",
      "         beta = 0.5\n",
      "##--------------------------##\n",
      "Gibbs sampling with K = 2\n",
      "accuracy : 0.6281510934393638\n",
      "log prob : -224651.09903861157\n",
      "runtime  : 0.8221950531005859\n",
      "Gibbs sampling with K = 5\n",
      "accuracy : 0.7543141153081511\n",
      "log prob : -191259.52864794512\n",
      "runtime  : 3.0074219703674316\n",
      "Gibbs sampling with K = 10\n",
      "accuracy : 0.7607157057654076\n",
      "log prob : -190277.78264367563\n",
      "runtime  : 6.592681884765625\n",
      "##--------------------------##\n",
      "         beta = 2\n",
      "##--------------------------##\n"
     ]
    },
    {
     "name": "stderr",
     "output_type": "stream",
     "text": [
      "../code/gibbs.py:22: RuntimeWarning: invalid value encountered in true_divide\n",
      "  probs = probs/probs.sum()\n",
      "../code/gibbs.py:25: RuntimeWarning: invalid value encountered in less\n",
      "  state[j] = np.random.choice(trans_prob.shape[0], size = 1, p = probs)[0]\n"
     ]
    },
    {
     "name": "stdout",
     "output_type": "stream",
     "text": [
      "Gibbs sampling with K = 2\n",
      "accuracy : 0.7944333996023857\n",
      "log prob : -181248.84479157347\n",
      "runtime  : 0.8314578533172607\n",
      "Gibbs sampling with K = 5\n",
      "accuracy : 0.8768190854870775\n",
      "log prob : -164605.09535703922\n",
      "runtime  : 3.0259218215942383\n",
      "Gibbs sampling with K = 10\n",
      "accuracy : 0.8805566600397614\n",
      "log prob : -164344.4151261623\n",
      "runtime  : 6.6583099365234375\n",
      "##--------------------------##\n",
      "         beta = 5\n",
      "##--------------------------##\n",
      "Gibbs sampling with K = 2\n",
      "accuracy : 0.800079522862823\n",
      "log prob : -180427.53231447787\n",
      "runtime  : 0.826509952545166\n",
      "Gibbs sampling with K = 5\n",
      "accuracy : 0.8801590457256461\n",
      "log prob : -164209.95588998025\n",
      "runtime  : 3.013672113418579\n",
      "Gibbs sampling with K = 10\n",
      "accuracy : 0.8809145129224653\n",
      "log prob : -164067.4820810276\n",
      "runtime  : 6.637230157852173\n"
     ]
    }
   ],
   "source": [
    "#Ks = [2,5,10,50,100,500,1000]\n",
    "betas = [0.5,2,5]\n",
    "Ks = [2,5,10]\n",
    "for beta in betas:\n",
    "    print(\"##--------------------------##\")\n",
    "    print(\"         beta = {}\".format(beta))\n",
    "    print(\"##--------------------------##\")\n",
    "    for K in Ks:\n",
    "        start = time.time()\n",
    "        (tags_pred, _) = gibbs_predictor(corpus, em_prob, trans_prob, tag2ix, word2ix,ix2tag, K=K, beta = beta)   \n",
    "        runtime = time.time() - start\n",
    "        print(\"Gibbs sampling with K = {}\".format(K))\n",
    "        print(\"accuracy : {}\".format(compute_tag_acc(tags_pred, tags)))\n",
    "        print(\"log prob : {}\".format(compute_prob_log(corpus, tags_pred, trans_prob, em_prob, word2ix, tag2ix)))\n",
    "        print(\"runtime  : {}\".format(runtime))"
   ]
  },
  {
   "cell_type": "code",
   "execution_count": null,
   "metadata": {},
   "outputs": [],
   "source": [
    "#Ks = [2,5,10,50,100,500,1000]\n",
    "annealing = 0.1\n",
    "betas = [0.5,2,5]\n",
    "Ks = [2,5,10]\n",
    "for beta in betas:\n",
    "    print(\"##--------------------------##\")\n",
    "    print(\"         beta = {}\".format(beta))\n",
    "    print(\"##--------------------------##\")\n",
    "    for K in Ks:\n",
    "        start = time.time()\n",
    "        (tags_pred, _) = gibbs_predictor(corpus, em_prob, trans_prob, tag2ix, word2ix,ix2tag, \n",
    "                                         K=K, beta = beta, annealing = annealing)   \n",
    "        runtime = time.time() - start\n",
    "        print(\"Gibbs sampling with K = {}\".format(K))\n",
    "        print(\"accuracy : {}\".format(compute_tag_acc(tags_pred, tags)))\n",
    "        print(\"log prob : {}\".format(compute_prob_log(corpus, tags_pred, trans_prob, em_prob, word2ix, tag2ix)))\n",
    "        print(\"runtime  : {}\".format(runtime))"
   ]
  },
  {
   "cell_type": "markdown",
   "metadata": {},
   "source": [
    "# Gibbs Sampling for Minimum Bayes Risk Inference"
   ]
  },
  {
   "cell_type": "markdown",
   "metadata": {},
   "source": [
    "## (a)\n",
    "\n",
    "Let $$L(y) = \\sum_{y'} P(Y = y' | X = x) $$ where cost is 1-0 cost.\n",
    "Then we know $$L(y) = \\sum_{y' \\neq y} P(Y = y' | X = x) = 1 - P(Y = y | X = x)$$\n",
    "Therefore $$ \\hat{y} = \\text{argmin}_{y} L(y) = \\text{argmax}_{y} P(Y = y | X = x)$$"
   ]
  },
  {
   "cell_type": "markdown",
   "metadata": {},
   "source": [
    "## (b)\n",
    "Easy to see that we can approximate with \n",
    "\n",
    "$$ P(Y_t | X = x) \\approx \\frac{1}{K} \\sum_{i = 1}^K 1_{[\\tilde{y}_t = y]} $$"
   ]
  },
  {
   "cell_type": "markdown",
   "metadata": {},
   "source": [
    "## outline for code\n",
    "For each sentence, sampling first (get (K,L) array)\n",
    "\n",
    "Then, for each position in the sentence, simply find the tag that appears most often (get mode for each column and use it as predict!)\n",
    "\n"
   ]
  }
 ],
 "metadata": {
  "kernelspec": {
   "display_name": "Python 3",
   "language": "python",
   "name": "python3"
  },
  "language_info": {
   "codemirror_mode": {
    "name": "ipython",
    "version": 3
   },
   "file_extension": ".py",
   "mimetype": "text/x-python",
   "name": "python",
   "nbconvert_exporter": "python",
   "pygments_lexer": "ipython3",
   "version": "3.6.5"
  }
 },
 "nbformat": 4,
 "nbformat_minor": 2
}
