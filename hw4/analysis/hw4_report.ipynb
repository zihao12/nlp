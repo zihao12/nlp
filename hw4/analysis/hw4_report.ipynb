{
 "cells": [
  {
   "cell_type": "markdown",
   "metadata": {},
   "source": [
    "# Gibbs Sampling for HMM"
   ]
  },
  {
   "cell_type": "markdown",
   "metadata": {},
   "source": [
    "## (a)\n",
    "\n",
    "\\begin{align}\n",
    "P(Y_t = y | Y_{-t} = y_{-t}, X = x) & = \\frac{P(Y_t = y, Y_{-t} = y_{-t}, X = x)}{P(Y_{-t} = y_{-t}, X = x)}\\\\\n",
    "& = \\frac{P(Y_1 = y_1) \\Pi_{i = 2}^T P(Y_i = y_i | Y_{i-1} = y_{i-1}) \\Pi_{i = 1}^T P(X_i = x_i | Y_i = y_i)}\n",
    "{\\int P(Y_{-t} = y_{-t}, X = x, Y_t = y) dy}\\\\\n",
    "& = \\frac{const \\times P(Y_t = y | Y_{t-1} = y_{t-1}) P(Y_{t+1} = y_{t+1} | Y_{t} = y) P(X_t = x_t | Y_t = y)}{const}\\\\\n",
    "& \\propto P(Y_t = y | Y_{t-1} = y_{t-1}) P(Y_{t+1} = y_{t+1} | Y_{t} = y) P(X_t = x_t | Y_t = y)\n",
    "\\end{align}\n",
    "\n",
    "Note I just leave out terms not relevant to $y$ as constant. "
   ]
  },
  {
   "cell_type": "markdown",
   "metadata": {},
   "source": [
    "## (b)\n",
    "For $t = 1$, from the same formula above, we get \n",
    "$$P(Y_1 = y | Y_{-1} = y_{-1}, X = x) \\propto P(Y_{2} = y_{2} | Y_{1} = y) P(Y_{1} = y | Y_{0} = <s>) P(X_1 = x_1 | Y_1 = y)$$\n",
    "\n",
    "For $t = T$, from the same formula above, we get \n",
    "$$P(Y_T = y | Y_{-T} = y_{-T}, X = x) \\propto P(</s> | Y_{T} = y) P(Y_{T} = y | Y_{T-1} = y_{T-1}) P(X_T = x_T | Y_T = y)$$"
   ]
  },
  {
   "cell_type": "markdown",
   "metadata": {},
   "source": [
    "## (c) \n",
    "code is implemented in `../code/gibbs.py`"
   ]
  },
  {
   "cell_type": "code",
   "execution_count": 1,
   "metadata": {},
   "outputs": [],
   "source": [
    "import sys\n",
    "sys.path.insert(0, \"../code\")\n",
    "import numpy as np\n",
    "import itertools\n",
    "import time\n",
    "import sys\n",
    "from gibbs import gibbs, gibbs_predictor\n",
    "from data_pre import data_preprocessing\n",
    "from misc import compute_prob_log,compute_tag_acc\n",
    "import matplotlib.pyplot as plt\n",
    "\n"
   ]
  },
  {
   "cell_type": "code",
   "execution_count": 2,
   "metadata": {},
   "outputs": [],
   "source": [
    "(data_train,data_dev,word2ix, ix2word, tag2ix, ix2tag, em_prob, trans_prob) = data_preprocessing()\n",
    "em_prob[em_prob == 0] = sys.float_info.min\n",
    "trans_prob[trans_prob == 0] = sys.float_info.min"
   ]
  },
  {
   "cell_type": "code",
   "execution_count": 3,
   "metadata": {},
   "outputs": [
    {
     "name": "stdout",
     "output_type": "stream",
     "text": [
      "accuracy using gibbs sampling is 0.8617097415506958\n",
      "log prob of gibbs prediction is -166849.2765407818\n",
      "runtime for gibbs sampling with K = 5 is 4.791851043701172\n"
     ]
    },
    {
     "data": {
      "image/png": "[encoded data removed]",
      "text/plain": [
       "<Figure size 432x288 with 1 Axes>"
      ]
     },
     "metadata": {},
     "output_type": "display_data"
    }
   ],
   "source": [
    "(corpus, tags) = data_dev\n",
    "K = 5\n",
    "start = time.time()\n",
    "(tags_pred, n_changes) = gibbs_predictor(corpus, em_prob, trans_prob, tag2ix, word2ix,ix2tag, K=K)   \n",
    "runtime = time.time() - start\n",
    "print(\"accuracy using gibbs sampling is {}\".format(compute_tag_acc(tags_pred, tags)))\n",
    "print(\"log prob of gibbs prediction is {}\".format(compute_prob_log(corpus, tags_pred, trans_prob, em_prob, word2ix, tag2ix)))\n",
    "print(\"runtime for gibbs sampling with K = {} is {}\".format(K, runtime))\n",
    "n_changes = np.array(n_changes)\n",
    "plt.plot(n_changes.mean(axis = 0))\n",
    "plt.title(\"N_iter vs average changes \")\n",
    "plt.xlabel(\"N_iter\")\n",
    "plt.show()"
   ]
  },
  {
   "cell_type": "markdown",
   "metadata": {},
   "source": [
    "### Comment:\n",
    "With number of iterations growing, the number of changes decrease (but not to zero)"
   ]
  },
  {
   "cell_type": "markdown",
   "metadata": {},
   "source": [
    "## (d)"
   ]
  },
  {
   "cell_type": "markdown",
   "metadata": {},
   "source": [
    "```\n",
    "beta    K       accuracy                log_prob                runtime\n",
    "1       2       0.77769                 -182094.522             1.66\n",
    "1       5       0.86306                 -166691.174             6.20\n",
    "1       10      0.86306                 -166567.8591            13.63\n",
    "1       50      0.86739                 -166290.0117            73.42\n",
    "1       100     0.86600                 -166424.6044            148.67\n",
    "1       500     0.86620                 -166448.0571            751.69\n",
    "1       1000    0.86656                 -166428.1011            1456.29\n",
    "\n",
    "```"
   ]
  },
  {
   "cell_type": "markdown",
   "metadata": {},
   "source": [
    "## (e)"
   ]
  },
  {
   "cell_type": "markdown",
   "metadata": {},
   "source": [
    "```\n",
    "beta    K       accuracy                log_prob                runtime\n",
    "0.5     2       0.63391                 -224944.2369            1.482\n",
    "0.5     5       0.75964                 -190808.6695            5.585\n",
    "0.5     10      0.76131                 -189674.8019            12.375\n",
    "0.5     50      0.76222                 -189671.6142            67.006\n",
    "0.5     100     0.76465                 -189178.4236            134.737\n",
    "0.5     500     0.76290                 -189445.7034            680.403\n",
    "0.5     1000    0.76314                 -189630.1784            1363.908\n",
    "\n",
    "\n",
    "beta    K       accuracy                log_prob                runtime\n",
    "2       2       0.79908                 -180006.4834            1.515\n",
    "2       5       0.87514                 -164752.6507            5.502\n",
    "2       10      0.87980                 -164395.3786            12.224\n",
    "2       50      0.88163                 -164146.4202            66.037\n",
    "2       100     0.88294                 -164019.4404            133.281\n",
    "2       500     0.88369                 -163981.8099            673.306\n",
    "2       1000    0.88504                 -163908.7458            1355.406\n",
    "\n",
    "\n",
    "beta    K       accuracy                log_prob                runtime\n",
    "5       2       0.80278                 -179218.0286            1.4738\n",
    "5       5       0.87964                 -164219.2186            5.5659\n",
    "5       10      0.88159                 -164029.0525            12.2327\n",
    "5       50      0.88214                 -163926.8255            66.0533\n",
    "5       100     0.88457                 -163783.9662            133.5858\n",
    "5       500     0.88473                 -163752.7453            675.1857\n",
    "5       1000    0.88687                 -163625.3498            1353.0155\n",
    "```\n",
    "\n",
    "### Comment:\n",
    "With bigger $\\beta$, we get better accuacry and log_prob for almost all $K$s. "
   ]
  },
  {
   "cell_type": "markdown",
   "metadata": {},
   "source": [
    "## (f)"
   ]
  },
  {
   "cell_type": "markdown",
   "metadata": {},
   "source": [
    "### start from $\\beta = 0.1$, then increase it by $0.1$  in each iteration\n",
    "```\n",
    "K       accuracy        log_prob        runtime\n",
    "2       0.01964         -1968835.9106   1.43\n",
    "5       0.39328         -311310.4384    5.50\n",
    "10      0.84608         -169426.5513    12.34\n",
    "50      0.88819         -163498.2672    67.07\n",
    "100     0.89001         -163392.3143    135.69\n",
    "500     0.87153         -169634.7072    686.12\n",
    "1000    0.17518         -434717.2169    1418.21\n",
    "```\n",
    "\n",
    "### adjust scheduling by setting a cap for $\\beta$\n",
    "From the experiments above, we can see when $\\beta$ gets too large interations, the log-probability becomes very bad, probably because huge $\\beta$ makes a very wrong model. In order to remedy it, I decide to add a cap to the value of $\\beta$. That is, when $\\beta$ hits a certain value (called \"cap\" below), it ceases to increase. \n",
    "\n",
    "Below are the results. The running time are almost the same, so I don't show them below. \n",
    "\n",
    "#### cap = 5\n",
    "```\n",
    "cap     K       accuracy        log_prob\n",
    "5       2       0.0191          -1853046.976\n",
    "5       10      0.3889          -169562.0827\n",
    "5       50      0.8483          -163439.8790\n",
    "5       100     0.8886          -163460.3735\n",
    "5       500     0.8898          -163454.1597\n",
    "5       1000    0.8906          -163411.5830\n",
    "```\n",
    "#### cap = 10\n",
    "```\n",
    "cap     K       accuracy        log_prob\n",
    "10      2       0.0191          -1939250.1183\n",
    "10      5       0.3951          -311397.0808\n",
    "10      10      0.8468          -169616.2551\n",
    "10      50      0.8879          -163487.1764\n",
    "10      100     0.8908          -163358.5868\n",
    "10      500     0.8899          -163387.2232\n",
    "10      1000    0.8905          -163371.0516\n",
    "```\n",
    "\n",
    "### Comment:\n",
    "By setting a cap on $\\beta$, we can see both accuracy and log_prob has small increase compared to the one without capping. "
   ]
  },
  {
   "cell_type": "markdown",
   "metadata": {},
   "source": [
    "# Gibbs Sampling for Minimum Bayes Risk Inference"
   ]
  },
  {
   "cell_type": "markdown",
   "metadata": {},
   "source": [
    "## (a)\n",
    "\n",
    "Let $$L(y) = \\sum_{y'} P(Y = y' | X = x) $$ where cost is 1-0 cost.\n",
    "Then we know $$L(y) = \\sum_{y' \\neq y} P(Y = y' | X = x) = 1 - P(Y = y | X = x)$$\n",
    "Therefore $$ \\hat{y} = \\text{argmin}_{y} L(y) = \\text{argmax}_{y} P(Y = y | X = x)$$"
   ]
  },
  {
   "cell_type": "markdown",
   "metadata": {},
   "source": [
    "## (b)\n",
    "Easy to see that we can approximate with \n",
    "\n",
    "$$ P(Y_t | X = x) \\approx \\frac{1}{K} \\sum_{i = 1}^K 1_{[\\tilde{y}_t^{(i)} = y]} $$\n",
    "\n",
    "So bascially, for a location $t$, we only need to see which tags appear most often among all samples. \n",
    "\n",
    "Below I give a more detailed proof:\n",
    "\n",
    "From equation (5), we have:\n",
    "\\begin{align}\n",
    "P(Y_t = y | X = x) & = \\sum_{y_{-t}} P(Y_t = y, Y_{-t} = y_{-t} | X = x) \\\\\n",
    "& \\approx \\sum_{y_{-t}} \\frac{1}{K} \\sum_{i = 1}^K 1_{\\tilde{y}^{(i)} = y_t}\\\\\n",
    "& = \\frac{1}{K} \\sum_{i = 1}^K \\sum_{y_{-t}} 1_{(\\tilde{y_t}^{(i)} = y,\\tilde{y_{-t}}^{(i)} = y_{-t} )}\\\\\n",
    "& = \\frac{1}{K} \\sum_{i = 1}^K 1_{[\\tilde{y}_t^{(i)} = y]}\n",
    "\\end{align}\n"
   ]
  },
  {
   "cell_type": "markdown",
   "metadata": {},
   "source": [
    "## (c)\n",
    "\n",
    "It is implemented in `code/gibbs.py`\n",
    "\n",
    "### $\\beta = 1$\n",
    "```\n",
    "beta    K       accuracy          runtime\n",
    "1       2       0.3967              2\n",
    "1       5       0.8607              6\n",
    "1       10      0.8780              13\n",
    "1       50      0.8893              70\n",
    "1       100     0.8906              142\n",
    "1       500     0.8930              717\n",
    "1       1000    0.8939              1439\n",
    "\n",
    "```\n",
    "\n",
    "### Other values of $\\beta$\n",
    "For different $\\beta$, the runtime are similar, so I do not show them below. \n",
    "\n",
    "### $\\beta = 0.5$\n",
    "```\n",
    "beta    K       accuracy        \n",
    "0.5     2       0.3163          \n",
    "0.5     5       0.8078          \n",
    "0.5     10      0.8570          \n",
    "0.5     50      0.8823          \n",
    "0.5     100     0.8875          \n",
    "0.5     500     0.8910          \n",
    "0.5     1000    0.8915          \n",
    "```\n",
    "\n",
    "\n",
    "### $\\beta = 2$\n",
    "```\n",
    "beta    K       accuracy        \n",
    "2       2       0.40429        \n",
    "2       5       0.87176         \n",
    "2       10      0.88159         \n",
    "2       50      0.88715         \n",
    "2       100     0.88886         \n",
    "2       500     0.89109        \n",
    "2       1000    0.89204         \n",
    "```\n",
    "\n",
    "### $\\beta = 5$\n",
    "```\n",
    "beta    K       accuracy\n",
    "5       2       0.4079\n",
    "5       5       0.8750\n",
    "5       10      0.8815\n",
    "5       50      0.8843\n",
    "5       100     0.8858\n",
    "5       500     0.8880\n",
    "5       1000    0.8873\n",
    "```\n",
    "\n",
    "\n",
    "\n",
    "\n",
    "\n",
    "\n",
    "\n",
    "### $\\beta = 10$\n",
    "```\n",
    "beta    K       accuracy       \n",
    "10      2       0.41025         \n",
    "10      5       0.87296         \n",
    "10      10      0.88206         \n",
    "10      50      0.88083         \n",
    "10      100     0.88377         \n",
    "10      500     0.88433         \n",
    "10      1000    0.88628         \n",
    "```"
   ]
  },
  {
   "cell_type": "markdown",
   "metadata": {},
   "source": [
    "### Comment:\n",
    "* MBR with $\\beta = 1, K = 1000$ gets the best result I have seen so far. \n",
    "\n",
    "* Accuracy increases with $K$.\n",
    "\n",
    "* $\\beta = 1$ gets the best result for large $K$. Increasing $\\beta$ beyond 1 decreases the accuracy. \n",
    "\n",
    "* This is different from what I observed from using the final sample, which shows the trend that increasing $\\beta$ increases accuracy. \n"
   ]
  },
  {
   "cell_type": "code",
   "execution_count": null,
   "metadata": {},
   "outputs": [],
   "source": []
  }
 ],
 "metadata": {
  "kernelspec": {
   "display_name": "Python 3",
   "language": "python",
   "name": "python3"
  },
  "language_info": {
   "codemirror_mode": {
    "name": "ipython",
    "version": 3
   },
   "file_extension": ".py",
   "mimetype": "text/x-python",
   "name": "python",
   "nbconvert_exporter": "python",
   "pygments_lexer": "ipython3",
   "version": "3.6.8"
  }
 },
 "nbformat": 4,
 "nbformat_minor": 2
}
